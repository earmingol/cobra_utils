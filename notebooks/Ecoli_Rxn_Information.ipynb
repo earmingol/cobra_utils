{
 "cells": [
  {
   "cell_type": "code",
   "execution_count": 1,
   "metadata": {},
   "outputs": [],
   "source": [
    "import pandas as pd\n",
    "\n",
    "import cobra, cobra_utils"
   ]
  },
  {
   "cell_type": "markdown",
   "metadata": {},
   "source": [
    "# Data location"
   ]
  },
  {
   "cell_type": "code",
   "execution_count": 2,
   "metadata": {},
   "outputs": [],
   "source": [
    "model_filename = '../data/e_coli_iJO1366.xml.gz'"
   ]
  },
  {
   "cell_type": "markdown",
   "metadata": {},
   "source": [
    "# Load data"
   ]
  },
  {
   "cell_type": "code",
   "execution_count": 3,
   "metadata": {},
   "outputs": [
    {
     "name": "stdout",
     "output_type": "stream",
     "text": [
      "Loading genome-scale model\n",
      "Model correctly loaded.\n"
     ]
    }
   ],
   "source": [
    "model = cobra_utils.io.load_model(model_filename, format='sbml')"
   ]
  },
  {
   "cell_type": "code",
   "execution_count": 4,
   "metadata": {},
   "outputs": [
    {
     "data": {
      "text/html": [
       "\n",
       "        <table>\n",
       "            <tr>\n",
       "                <td><strong>Name</strong></td>\n",
       "                <td>iJO1366</td>\n",
       "            </tr><tr>\n",
       "                <td><strong>Memory address</strong></td>\n",
       "                <td>0x01a22d10278</td>\n",
       "            </tr><tr>\n",
       "                <td><strong>Number of metabolites</strong></td>\n",
       "                <td>1805</td>\n",
       "            </tr><tr>\n",
       "                <td><strong>Number of reactions</strong></td>\n",
       "                <td>2583</td>\n",
       "            </tr><tr>\n",
       "                <td><strong>Number of groups</strong></td>\n",
       "                <td>37</td>\n",
       "            </tr><tr>\n",
       "                <td><strong>Objective expression</strong></td>\n",
       "                <td>1.0*BIOMASS_Ec_iJO1366_core_53p95M - 1.0*BIOMASS_Ec_iJO1366_core_53p95M_reverse_5c8b1</td>\n",
       "            </tr><tr>\n",
       "                <td><strong>Compartments</strong></td>\n",
       "                <td>cytosol, extracellular space, periplasm</td>\n",
       "            </tr>\n",
       "          </table>"
      ],
      "text/plain": [
       "<Model iJO1366 at 0x1a22d10278>"
      ]
     },
     "execution_count": 4,
     "metadata": {},
     "output_type": "execute_result"
    }
   ],
   "source": [
    "model"
   ]
  },
  {
   "cell_type": "markdown",
   "metadata": {},
   "source": [
    "# Retrieving information"
   ]
  },
  {
   "cell_type": "markdown",
   "metadata": {},
   "source": [
    "## From metabolites"
   ]
  },
  {
   "cell_type": "code",
   "execution_count": 5,
   "metadata": {},
   "outputs": [],
   "source": [
    "mets = ['nadh_c',\n",
    "        'nadph_c']"
   ]
  },
  {
   "cell_type": "code",
   "execution_count": 6,
   "metadata": {},
   "outputs": [
    {
     "name": "stdout",
     "output_type": "stream",
     "text": [
      "Using list of metabolites to get reactions where they participate. Also, getting genes of those reactions.\n",
      "Information correctly obtained.\n"
     ]
    }
   ],
   "source": [
    "info_from_mets = cobra_utils.query.rxn_info_from_metabolites(model, mets)"
   ]
  },
  {
   "cell_type": "code",
   "execution_count": 7,
   "metadata": {},
   "outputs": [
    {
     "data": {
      "text/html": [
       "<div>\n",
       "<style scoped>\n",
       "    .dataframe tbody tr th:only-of-type {\n",
       "        vertical-align: middle;\n",
       "    }\n",
       "\n",
       "    .dataframe tbody tr th {\n",
       "        vertical-align: top;\n",
       "    }\n",
       "\n",
       "    .dataframe thead th {\n",
       "        text-align: right;\n",
       "    }\n",
       "</style>\n",
       "<table border=\"1\" class=\"dataframe\">\n",
       "  <thead>\n",
       "    <tr style=\"text-align: right;\">\n",
       "      <th></th>\n",
       "      <th>RxnID</th>\n",
       "      <th>RxnName</th>\n",
       "      <th>GeneID</th>\n",
       "      <th>Subsystem</th>\n",
       "      <th>RxnFormula</th>\n",
       "      <th>MetID</th>\n",
       "      <th>MetName</th>\n",
       "    </tr>\n",
       "  </thead>\n",
       "  <tbody>\n",
       "    <tr>\n",
       "      <th>0</th>\n",
       "      <td>IPMD</td>\n",
       "      <td>3-isopropylmalate dehydrogenase</td>\n",
       "      <td>b0073</td>\n",
       "      <td></td>\n",
       "      <td>3c2hmp_c + nad_c --&gt; 3c4mop_c + h_c + nadh_c</td>\n",
       "      <td>nadh_c</td>\n",
       "      <td>Nicotinamide adenine dinucleotide - reduced</td>\n",
       "    </tr>\n",
       "    <tr>\n",
       "      <th>1</th>\n",
       "      <td>NADH18pp</td>\n",
       "      <td>NADH dehydrogenase (demethylmenaquinone-8 &amp; 3 ...</td>\n",
       "      <td>b2277</td>\n",
       "      <td></td>\n",
       "      <td>2dmmq8_c + 4.0 h_c + nadh_c --&gt; 2dmmql8_c + 3....</td>\n",
       "      <td>nadh_c</td>\n",
       "      <td>Nicotinamide adenine dinucleotide - reduced</td>\n",
       "    </tr>\n",
       "    <tr>\n",
       "      <th>2</th>\n",
       "      <td>NADH18pp</td>\n",
       "      <td>NADH dehydrogenase (demethylmenaquinone-8 &amp; 3 ...</td>\n",
       "      <td>b2282</td>\n",
       "      <td></td>\n",
       "      <td>2dmmq8_c + 4.0 h_c + nadh_c --&gt; 2dmmql8_c + 3....</td>\n",
       "      <td>nadh_c</td>\n",
       "      <td>Nicotinamide adenine dinucleotide - reduced</td>\n",
       "    </tr>\n",
       "    <tr>\n",
       "      <th>3</th>\n",
       "      <td>NADH18pp</td>\n",
       "      <td>NADH dehydrogenase (demethylmenaquinone-8 &amp; 3 ...</td>\n",
       "      <td>b2288</td>\n",
       "      <td></td>\n",
       "      <td>2dmmq8_c + 4.0 h_c + nadh_c --&gt; 2dmmql8_c + 3....</td>\n",
       "      <td>nadh_c</td>\n",
       "      <td>Nicotinamide adenine dinucleotide - reduced</td>\n",
       "    </tr>\n",
       "    <tr>\n",
       "      <th>4</th>\n",
       "      <td>NADH18pp</td>\n",
       "      <td>NADH dehydrogenase (demethylmenaquinone-8 &amp; 3 ...</td>\n",
       "      <td>b2285</td>\n",
       "      <td></td>\n",
       "      <td>2dmmq8_c + 4.0 h_c + nadh_c --&gt; 2dmmql8_c + 3....</td>\n",
       "      <td>nadh_c</td>\n",
       "      <td>Nicotinamide adenine dinucleotide - reduced</td>\n",
       "    </tr>\n",
       "  </tbody>\n",
       "</table>\n",
       "</div>"
      ],
      "text/plain": [
       "      RxnID                                            RxnName GeneID  \\\n",
       "0      IPMD                    3-isopropylmalate dehydrogenase  b0073   \n",
       "1  NADH18pp  NADH dehydrogenase (demethylmenaquinone-8 & 3 ...  b2277   \n",
       "2  NADH18pp  NADH dehydrogenase (demethylmenaquinone-8 & 3 ...  b2282   \n",
       "3  NADH18pp  NADH dehydrogenase (demethylmenaquinone-8 & 3 ...  b2288   \n",
       "4  NADH18pp  NADH dehydrogenase (demethylmenaquinone-8 & 3 ...  b2285   \n",
       "\n",
       "  Subsystem                                         RxnFormula   MetID  \\\n",
       "0                 3c2hmp_c + nad_c --> 3c4mop_c + h_c + nadh_c  nadh_c   \n",
       "1            2dmmq8_c + 4.0 h_c + nadh_c --> 2dmmql8_c + 3....  nadh_c   \n",
       "2            2dmmq8_c + 4.0 h_c + nadh_c --> 2dmmql8_c + 3....  nadh_c   \n",
       "3            2dmmq8_c + 4.0 h_c + nadh_c --> 2dmmql8_c + 3....  nadh_c   \n",
       "4            2dmmq8_c + 4.0 h_c + nadh_c --> 2dmmql8_c + 3....  nadh_c   \n",
       "\n",
       "                                       MetName  \n",
       "0  Nicotinamide adenine dinucleotide - reduced  \n",
       "1  Nicotinamide adenine dinucleotide - reduced  \n",
       "2  Nicotinamide adenine dinucleotide - reduced  \n",
       "3  Nicotinamide adenine dinucleotide - reduced  \n",
       "4  Nicotinamide adenine dinucleotide - reduced  "
      ]
     },
     "execution_count": 7,
     "metadata": {},
     "output_type": "execute_result"
    }
   ],
   "source": [
    "info_from_mets.head()"
   ]
  },
  {
   "cell_type": "markdown",
   "metadata": {},
   "source": [
    "## From reactions"
   ]
  },
  {
   "cell_type": "code",
   "execution_count": 8,
   "metadata": {},
   "outputs": [],
   "source": [
    "rxns = ['ICDHyr',\n",
    "        'ICL']"
   ]
  },
  {
   "cell_type": "code",
   "execution_count": 9,
   "metadata": {},
   "outputs": [
    {
     "name": "stdout",
     "output_type": "stream",
     "text": [
      "Using list of reactions to get their information and genes associated.\n",
      "Information correctly obtained.\n"
     ]
    }
   ],
   "source": [
    "info_from_rxns = cobra_utils.query.rxn_info_from_reactions(model, rxns)"
   ]
  },
  {
   "cell_type": "code",
   "execution_count": 10,
   "metadata": {},
   "outputs": [
    {
     "data": {
      "text/html": [
       "<div>\n",
       "<style scoped>\n",
       "    .dataframe tbody tr th:only-of-type {\n",
       "        vertical-align: middle;\n",
       "    }\n",
       "\n",
       "    .dataframe tbody tr th {\n",
       "        vertical-align: top;\n",
       "    }\n",
       "\n",
       "    .dataframe thead th {\n",
       "        text-align: right;\n",
       "    }\n",
       "</style>\n",
       "<table border=\"1\" class=\"dataframe\">\n",
       "  <thead>\n",
       "    <tr style=\"text-align: right;\">\n",
       "      <th></th>\n",
       "      <th>GeneID</th>\n",
       "      <th>RxnID</th>\n",
       "      <th>RxnName</th>\n",
       "      <th>SubSystem</th>\n",
       "      <th>RxnFormula</th>\n",
       "    </tr>\n",
       "  </thead>\n",
       "  <tbody>\n",
       "    <tr>\n",
       "      <th>0</th>\n",
       "      <td>b1136</td>\n",
       "      <td>ICDHyr</td>\n",
       "      <td>Isocitrate dehydrogenase (NADP)</td>\n",
       "      <td></td>\n",
       "      <td>icit_c + nadp_c &lt;=&gt; akg_c + co2_c + nadph_c</td>\n",
       "    </tr>\n",
       "    <tr>\n",
       "      <th>1</th>\n",
       "      <td>b4015</td>\n",
       "      <td>ICL</td>\n",
       "      <td>Isocitrate lyase</td>\n",
       "      <td></td>\n",
       "      <td>icit_c --&gt; glx_c + succ_c</td>\n",
       "    </tr>\n",
       "  </tbody>\n",
       "</table>\n",
       "</div>"
      ],
      "text/plain": [
       "  GeneID   RxnID                          RxnName SubSystem  \\\n",
       "0  b1136  ICDHyr  Isocitrate dehydrogenase (NADP)             \n",
       "1  b4015     ICL                 Isocitrate lyase             \n",
       "\n",
       "                                    RxnFormula  \n",
       "0  icit_c + nadp_c <=> akg_c + co2_c + nadph_c  \n",
       "1                    icit_c --> glx_c + succ_c  "
      ]
     },
     "execution_count": 10,
     "metadata": {},
     "output_type": "execute_result"
    }
   ],
   "source": [
    "info_from_rxns.head()"
   ]
  },
  {
   "cell_type": "markdown",
   "metadata": {},
   "source": [
    "## From genes"
   ]
  },
  {
   "cell_type": "code",
   "execution_count": 11,
   "metadata": {},
   "outputs": [],
   "source": [
    "genes = ['b1602',\n",
    "         'b1603']"
   ]
  },
  {
   "cell_type": "code",
   "execution_count": 12,
   "metadata": {},
   "outputs": [
    {
     "name": "stdout",
     "output_type": "stream",
     "text": [
      "Using list of genes to get the reactions associated and their information.\n",
      "Information correctly obtained.\n"
     ]
    }
   ],
   "source": [
    "info_from_genes = cobra_utils.query.rxn_info_from_genes(model, genes)"
   ]
  },
  {
   "cell_type": "code",
   "execution_count": 13,
   "metadata": {},
   "outputs": [
    {
     "data": {
      "text/html": [
       "<div>\n",
       "<style scoped>\n",
       "    .dataframe tbody tr th:only-of-type {\n",
       "        vertical-align: middle;\n",
       "    }\n",
       "\n",
       "    .dataframe tbody tr th {\n",
       "        vertical-align: top;\n",
       "    }\n",
       "\n",
       "    .dataframe thead th {\n",
       "        text-align: right;\n",
       "    }\n",
       "</style>\n",
       "<table border=\"1\" class=\"dataframe\">\n",
       "  <thead>\n",
       "    <tr style=\"text-align: right;\">\n",
       "      <th></th>\n",
       "      <th>GeneID</th>\n",
       "      <th>RxnID</th>\n",
       "      <th>RxnName</th>\n",
       "      <th>SubSystem</th>\n",
       "      <th>RxnFormula</th>\n",
       "    </tr>\n",
       "  </thead>\n",
       "  <tbody>\n",
       "    <tr>\n",
       "      <th>0</th>\n",
       "      <td>b1602</td>\n",
       "      <td>NADTRHD</td>\n",
       "      <td>NAD transhydrogenase</td>\n",
       "      <td></td>\n",
       "      <td>nad_c + nadph_c --&gt; nadh_c + nadp_c</td>\n",
       "    </tr>\n",
       "    <tr>\n",
       "      <th>1</th>\n",
       "      <td>b1602</td>\n",
       "      <td>THD2pp</td>\n",
       "      <td>NAD(P) transhydrogenase (periplasm)</td>\n",
       "      <td></td>\n",
       "      <td>2.0 h_p + nadh_c + nadp_c --&gt; 2.0 h_c + nad_c ...</td>\n",
       "    </tr>\n",
       "    <tr>\n",
       "      <th>2</th>\n",
       "      <td>b1603</td>\n",
       "      <td>NADTRHD</td>\n",
       "      <td>NAD transhydrogenase</td>\n",
       "      <td></td>\n",
       "      <td>nad_c + nadph_c --&gt; nadh_c + nadp_c</td>\n",
       "    </tr>\n",
       "    <tr>\n",
       "      <th>3</th>\n",
       "      <td>b1603</td>\n",
       "      <td>THD2pp</td>\n",
       "      <td>NAD(P) transhydrogenase (periplasm)</td>\n",
       "      <td></td>\n",
       "      <td>2.0 h_p + nadh_c + nadp_c --&gt; 2.0 h_c + nad_c ...</td>\n",
       "    </tr>\n",
       "  </tbody>\n",
       "</table>\n",
       "</div>"
      ],
      "text/plain": [
       "  GeneID    RxnID                              RxnName SubSystem  \\\n",
       "0  b1602  NADTRHD                 NAD transhydrogenase             \n",
       "1  b1602   THD2pp  NAD(P) transhydrogenase (periplasm)             \n",
       "2  b1603  NADTRHD                 NAD transhydrogenase             \n",
       "3  b1603   THD2pp  NAD(P) transhydrogenase (periplasm)             \n",
       "\n",
       "                                          RxnFormula  \n",
       "0                nad_c + nadph_c --> nadh_c + nadp_c  \n",
       "1  2.0 h_p + nadh_c + nadp_c --> 2.0 h_c + nad_c ...  \n",
       "2                nad_c + nadph_c --> nadh_c + nadp_c  \n",
       "3  2.0 h_p + nadh_c + nadp_c --> 2.0 h_c + nad_c ...  "
      ]
     },
     "execution_count": 13,
     "metadata": {},
     "output_type": "execute_result"
    }
   ],
   "source": [
    "info_from_genes.head()"
   ]
  },
  {
   "cell_type": "markdown",
   "metadata": {},
   "source": [
    "## Information for all reactions present in the model"
   ]
  },
  {
   "cell_type": "code",
   "execution_count": 14,
   "metadata": {},
   "outputs": [
    {
     "name": "stdout",
     "output_type": "stream",
     "text": [
      "Getting information for all reactions in the model.\n",
      "Information correctly obtained.\n"
     ]
    }
   ],
   "source": [
    "all_rxns = cobra_utils.query.rxn_info_from_model(model)"
   ]
  },
  {
   "cell_type": "code",
   "execution_count": 15,
   "metadata": {},
   "outputs": [
    {
     "data": {
      "text/html": [
       "<div>\n",
       "<style scoped>\n",
       "    .dataframe tbody tr th:only-of-type {\n",
       "        vertical-align: middle;\n",
       "    }\n",
       "\n",
       "    .dataframe tbody tr th {\n",
       "        vertical-align: top;\n",
       "    }\n",
       "\n",
       "    .dataframe thead th {\n",
       "        text-align: right;\n",
       "    }\n",
       "</style>\n",
       "<table border=\"1\" class=\"dataframe\">\n",
       "  <thead>\n",
       "    <tr style=\"text-align: right;\">\n",
       "      <th></th>\n",
       "      <th>GeneID</th>\n",
       "      <th>RxnID</th>\n",
       "      <th>RxnName</th>\n",
       "      <th>SubSystem</th>\n",
       "      <th>RxnFormula</th>\n",
       "    </tr>\n",
       "  </thead>\n",
       "  <tbody>\n",
       "    <tr>\n",
       "      <th>0</th>\n",
       "      <td></td>\n",
       "      <td>DM_4crsol_c</td>\n",
       "      <td>Sink needed to allow p-Cresol to leave system</td>\n",
       "      <td></td>\n",
       "      <td>4crsol_c --&gt;</td>\n",
       "    </tr>\n",
       "    <tr>\n",
       "      <th>1</th>\n",
       "      <td></td>\n",
       "      <td>DM_5drib_c</td>\n",
       "      <td>Sink needed to allow 5'-deoxyribose to leave s...</td>\n",
       "      <td></td>\n",
       "      <td>5drib_c --&gt;</td>\n",
       "    </tr>\n",
       "    <tr>\n",
       "      <th>2</th>\n",
       "      <td></td>\n",
       "      <td>DM_aacald_c</td>\n",
       "      <td>Sink needed to allow aminoacetaldehyde to leav...</td>\n",
       "      <td></td>\n",
       "      <td>aacald_c --&gt;</td>\n",
       "    </tr>\n",
       "    <tr>\n",
       "      <th>3</th>\n",
       "      <td></td>\n",
       "      <td>DM_amob_c</td>\n",
       "      <td>Sink needed to allow S-Adenosyl-4-methylthio-2...</td>\n",
       "      <td></td>\n",
       "      <td>amob_c --&gt;</td>\n",
       "    </tr>\n",
       "    <tr>\n",
       "      <th>4</th>\n",
       "      <td></td>\n",
       "      <td>DM_mththf_c</td>\n",
       "      <td>Sink needed to allow (2R,4S)-2-methyl-2,3,3,4-...</td>\n",
       "      <td></td>\n",
       "      <td>mththf_c --&gt;</td>\n",
       "    </tr>\n",
       "  </tbody>\n",
       "</table>\n",
       "</div>"
      ],
      "text/plain": [
       "  GeneID        RxnID                                            RxnName  \\\n",
       "0         DM_4crsol_c      Sink needed to allow p-Cresol to leave system   \n",
       "1          DM_5drib_c  Sink needed to allow 5'-deoxyribose to leave s...   \n",
       "2         DM_aacald_c  Sink needed to allow aminoacetaldehyde to leav...   \n",
       "3           DM_amob_c  Sink needed to allow S-Adenosyl-4-methylthio-2...   \n",
       "4         DM_mththf_c  Sink needed to allow (2R,4S)-2-methyl-2,3,3,4-...   \n",
       "\n",
       "  SubSystem     RxnFormula  \n",
       "0            4crsol_c -->   \n",
       "1             5drib_c -->   \n",
       "2            aacald_c -->   \n",
       "3              amob_c -->   \n",
       "4            mththf_c -->   "
      ]
     },
     "execution_count": 15,
     "metadata": {},
     "output_type": "execute_result"
    }
   ],
   "source": [
    "all_rxns.head()"
   ]
  },
  {
   "cell_type": "code",
   "execution_count": null,
   "metadata": {},
   "outputs": [],
   "source": []
  }
 ],
 "metadata": {
  "kernelspec": {
   "display_name": "Python 3",
   "language": "python",
   "name": "python3"
  },
  "language_info": {
   "codemirror_mode": {
    "name": "ipython",
    "version": 3
   },
   "file_extension": ".py",
   "mimetype": "text/x-python",
   "name": "python",
   "nbconvert_exporter": "python",
   "pygments_lexer": "ipython3",
   "version": "3.6.5"
  }
 },
 "nbformat": 4,
 "nbformat_minor": 2
}
