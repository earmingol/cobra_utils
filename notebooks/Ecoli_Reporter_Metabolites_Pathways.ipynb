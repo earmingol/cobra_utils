{
 "cells": [
  {
   "cell_type": "code",
   "execution_count": 1,
   "metadata": {},
   "outputs": [],
   "source": [
    "import numpy as np\n",
    "import pandas as pd\n",
    "import scipy as sp\n",
    "\n",
    "from statsmodels.stats.multitest import fdrcorrection\n",
    "\n",
    "import cobra, cobra_utils"
   ]
  },
  {
   "cell_type": "markdown",
   "metadata": {},
   "source": [
    "# Example of using reporter metabolites in *E. coli*"
   ]
  },
  {
   "cell_type": "markdown",
   "metadata": {},
   "source": [
    "## Data Location"
   ]
  },
  {
   "cell_type": "code",
   "execution_count": 2,
   "metadata": {},
   "outputs": [],
   "source": [
    "model_filename = '../data/e_coli_iML1515.xml.gz'"
   ]
  },
  {
   "cell_type": "code",
   "execution_count": 3,
   "metadata": {},
   "outputs": [],
   "source": [
    "gene_expression_filename = '../data/EcoliExpression_GSE54900.xlsx'"
   ]
  },
  {
   "cell_type": "markdown",
   "metadata": {},
   "source": [
    "## Load data"
   ]
  },
  {
   "cell_type": "markdown",
   "metadata": {},
   "source": [
    "**Metabolic model**"
   ]
  },
  {
   "cell_type": "code",
   "execution_count": 4,
   "metadata": {},
   "outputs": [
    {
     "name": "stdout",
     "output_type": "stream",
     "text": [
      "Loading genome-scale model\n",
      "Model correctly loaded.\n"
     ]
    }
   ],
   "source": [
    "model = cobra_utils.io.load_model(model_filename, format='sbml')"
   ]
  },
  {
   "cell_type": "markdown",
   "metadata": {},
   "source": [
    "**Gene expression**"
   ]
  },
  {
   "cell_type": "code",
   "execution_count": 5,
   "metadata": {},
   "outputs": [],
   "source": [
    "gene_expression = pd.read_excel(gene_expression_filename, index_col='Gene')"
   ]
  },
  {
   "cell_type": "code",
   "execution_count": 6,
   "metadata": {},
   "outputs": [
    {
     "data": {
      "text/html": [
       "<div>\n",
       "<style scoped>\n",
       "    .dataframe tbody tr th:only-of-type {\n",
       "        vertical-align: middle;\n",
       "    }\n",
       "\n",
       "    .dataframe tbody tr th {\n",
       "        vertical-align: top;\n",
       "    }\n",
       "\n",
       "    .dataframe thead th {\n",
       "        text-align: right;\n",
       "    }\n",
       "</style>\n",
       "<table border=\"1\" class=\"dataframe\">\n",
       "  <thead>\n",
       "    <tr style=\"text-align: right;\">\n",
       "      <th></th>\n",
       "      <th>wt_dpd_1</th>\n",
       "      <th>wt_dpd_2</th>\n",
       "      <th>delfur_dpd_1</th>\n",
       "      <th>delfur_dpd_2</th>\n",
       "    </tr>\n",
       "    <tr>\n",
       "      <th>Gene</th>\n",
       "      <th></th>\n",
       "      <th></th>\n",
       "      <th></th>\n",
       "      <th></th>\n",
       "    </tr>\n",
       "  </thead>\n",
       "  <tbody>\n",
       "    <tr>\n",
       "      <th>b0002</th>\n",
       "      <td>8.113347</td>\n",
       "      <td>8.240386</td>\n",
       "      <td>6.915225</td>\n",
       "      <td>7.133376</td>\n",
       "    </tr>\n",
       "    <tr>\n",
       "      <th>b0003</th>\n",
       "      <td>7.918491</td>\n",
       "      <td>8.181859</td>\n",
       "      <td>6.652128</td>\n",
       "      <td>7.064316</td>\n",
       "    </tr>\n",
       "    <tr>\n",
       "      <th>b0004</th>\n",
       "      <td>7.248520</td>\n",
       "      <td>7.471647</td>\n",
       "      <td>6.059338</td>\n",
       "      <td>6.295427</td>\n",
       "    </tr>\n",
       "    <tr>\n",
       "      <th>b0005</th>\n",
       "      <td>3.758424</td>\n",
       "      <td>3.698816</td>\n",
       "      <td>3.207263</td>\n",
       "      <td>3.296815</td>\n",
       "    </tr>\n",
       "    <tr>\n",
       "      <th>b0006</th>\n",
       "      <td>4.696611</td>\n",
       "      <td>4.701444</td>\n",
       "      <td>4.635023</td>\n",
       "      <td>4.755118</td>\n",
       "    </tr>\n",
       "  </tbody>\n",
       "</table>\n",
       "</div>"
      ],
      "text/plain": [
       "       wt_dpd_1  wt_dpd_2  delfur_dpd_1  delfur_dpd_2\n",
       "Gene                                                 \n",
       "b0002  8.113347  8.240386      6.915225      7.133376\n",
       "b0003  7.918491  8.181859      6.652128      7.064316\n",
       "b0004  7.248520  7.471647      6.059338      6.295427\n",
       "b0005  3.758424  3.698816      3.207263      3.296815\n",
       "b0006  4.696611  4.701444      4.635023      4.755118"
      ]
     },
     "execution_count": 6,
     "metadata": {},
     "output_type": "execute_result"
    }
   ],
   "source": [
    "gene_expression.head()"
   ]
  },
  {
   "cell_type": "markdown",
   "metadata": {},
   "source": [
    "## Get differential expession for two conditions"
   ]
  },
  {
   "cell_type": "markdown",
   "metadata": {},
   "source": [
    "**p-value of differential expression**"
   ]
  },
  {
   "cell_type": "code",
   "execution_count": 7,
   "metadata": {},
   "outputs": [],
   "source": [
    "gene_expression['p-value'] = gene_expression.apply(lambda row: sp.stats.ttest_ind(row[0:2], row[2:4])[1], axis=1)"
   ]
  },
  {
   "cell_type": "markdown",
   "metadata": {},
   "source": [
    "**FDR**"
   ]
  },
  {
   "cell_type": "code",
   "execution_count": 8,
   "metadata": {},
   "outputs": [],
   "source": [
    "rej, adj_p = fdrcorrection(gene_expression['p-value'].fillna(1.).values, alpha=0.05, is_sorted=False)"
   ]
  },
  {
   "cell_type": "code",
   "execution_count": 9,
   "metadata": {},
   "outputs": [],
   "source": [
    "gene_expression['corrected p-value'] = adj_p"
   ]
  },
  {
   "cell_type": "code",
   "execution_count": 10,
   "metadata": {},
   "outputs": [
    {
     "data": {
      "text/html": [
       "<div>\n",
       "<style scoped>\n",
       "    .dataframe tbody tr th:only-of-type {\n",
       "        vertical-align: middle;\n",
       "    }\n",
       "\n",
       "    .dataframe tbody tr th {\n",
       "        vertical-align: top;\n",
       "    }\n",
       "\n",
       "    .dataframe thead th {\n",
       "        text-align: right;\n",
       "    }\n",
       "</style>\n",
       "<table border=\"1\" class=\"dataframe\">\n",
       "  <thead>\n",
       "    <tr style=\"text-align: right;\">\n",
       "      <th></th>\n",
       "      <th>wt_dpd_1</th>\n",
       "      <th>wt_dpd_2</th>\n",
       "      <th>delfur_dpd_1</th>\n",
       "      <th>delfur_dpd_2</th>\n",
       "      <th>p-value</th>\n",
       "      <th>corrected p-value</th>\n",
       "    </tr>\n",
       "    <tr>\n",
       "      <th>Gene</th>\n",
       "      <th></th>\n",
       "      <th></th>\n",
       "      <th></th>\n",
       "      <th></th>\n",
       "      <th></th>\n",
       "      <th></th>\n",
       "    </tr>\n",
       "  </thead>\n",
       "  <tbody>\n",
       "    <tr>\n",
       "      <th>b0002</th>\n",
       "      <td>8.113347</td>\n",
       "      <td>8.240386</td>\n",
       "      <td>6.915225</td>\n",
       "      <td>7.133376</td>\n",
       "      <td>0.011782</td>\n",
       "      <td>0.402468</td>\n",
       "    </tr>\n",
       "    <tr>\n",
       "      <th>b0003</th>\n",
       "      <td>7.918491</td>\n",
       "      <td>8.181859</td>\n",
       "      <td>6.652128</td>\n",
       "      <td>7.064316</td>\n",
       "      <td>0.039616</td>\n",
       "      <td>0.402468</td>\n",
       "    </tr>\n",
       "    <tr>\n",
       "      <th>b0004</th>\n",
       "      <td>7.248520</td>\n",
       "      <td>7.471647</td>\n",
       "      <td>6.059338</td>\n",
       "      <td>6.295427</td>\n",
       "      <td>0.018343</td>\n",
       "      <td>0.402468</td>\n",
       "    </tr>\n",
       "    <tr>\n",
       "      <th>b0005</th>\n",
       "      <td>3.758424</td>\n",
       "      <td>3.698816</td>\n",
       "      <td>3.207263</td>\n",
       "      <td>3.296815</td>\n",
       "      <td>0.012499</td>\n",
       "      <td>0.402468</td>\n",
       "    </tr>\n",
       "    <tr>\n",
       "      <th>b0006</th>\n",
       "      <td>4.696611</td>\n",
       "      <td>4.701444</td>\n",
       "      <td>4.635023</td>\n",
       "      <td>4.755118</td>\n",
       "      <td>0.953493</td>\n",
       "      <td>0.986424</td>\n",
       "    </tr>\n",
       "  </tbody>\n",
       "</table>\n",
       "</div>"
      ],
      "text/plain": [
       "       wt_dpd_1  wt_dpd_2  delfur_dpd_1  delfur_dpd_2   p-value  \\\n",
       "Gene                                                              \n",
       "b0002  8.113347  8.240386      6.915225      7.133376  0.011782   \n",
       "b0003  7.918491  8.181859      6.652128      7.064316  0.039616   \n",
       "b0004  7.248520  7.471647      6.059338      6.295427  0.018343   \n",
       "b0005  3.758424  3.698816      3.207263      3.296815  0.012499   \n",
       "b0006  4.696611  4.701444      4.635023      4.755118  0.953493   \n",
       "\n",
       "       corrected p-value  \n",
       "Gene                      \n",
       "b0002           0.402468  \n",
       "b0003           0.402468  \n",
       "b0004           0.402468  \n",
       "b0005           0.402468  \n",
       "b0006           0.986424  "
      ]
     },
     "execution_count": 10,
     "metadata": {},
     "output_type": "execute_result"
    }
   ],
   "source": [
    "gene_expression.head()"
   ]
  },
  {
   "cell_type": "markdown",
   "metadata": {},
   "source": [
    "## Reporter metabolites"
   ]
  },
  {
   "cell_type": "markdown",
   "metadata": {},
   "source": [
    "**Compute reporter metabolites**"
   ]
  },
  {
   "cell_type": "code",
   "execution_count": 11,
   "metadata": {},
   "outputs": [
    {
     "name": "stdout",
     "output_type": "stream",
     "text": [
      "Running reporter metabolites analysis\n",
      "Getting information for all metabolites in the model.\n",
      "Information correctly obtained.\n"
     ]
    }
   ],
   "source": [
    "rep_met = cobra_utils.topology.reporter_metabolites(model, gene_expression[['corrected p-value']])"
   ]
  },
  {
   "cell_type": "markdown",
   "metadata": {},
   "source": [
    "**Top 20 reporter metabolites**"
   ]
  },
  {
   "cell_type": "code",
   "execution_count": 12,
   "metadata": {},
   "outputs": [
    {
     "data": {
      "text/html": [
       "<div>\n",
       "<style scoped>\n",
       "    .dataframe tbody tr th:only-of-type {\n",
       "        vertical-align: middle;\n",
       "    }\n",
       "\n",
       "    .dataframe tbody tr th {\n",
       "        vertical-align: top;\n",
       "    }\n",
       "\n",
       "    .dataframe thead th {\n",
       "        text-align: right;\n",
       "    }\n",
       "</style>\n",
       "<table border=\"1\" class=\"dataframe\">\n",
       "  <thead>\n",
       "    <tr style=\"text-align: right;\">\n",
       "      <th></th>\n",
       "      <th>p-value</th>\n",
       "      <th>corrected Z</th>\n",
       "      <th>mean Z</th>\n",
       "      <th>std Z</th>\n",
       "      <th>gene number</th>\n",
       "    </tr>\n",
       "  </thead>\n",
       "  <tbody>\n",
       "    <tr>\n",
       "      <th>h_c</th>\n",
       "      <td>0.001015</td>\n",
       "      <td>3.085931</td>\n",
       "      <td>-0.524420</td>\n",
       "      <td>1.097564</td>\n",
       "      <td>885.0</td>\n",
       "    </tr>\n",
       "    <tr>\n",
       "      <th>glu__L_c</th>\n",
       "      <td>0.003567</td>\n",
       "      <td>2.690531</td>\n",
       "      <td>-0.195846</td>\n",
       "      <td>0.592217</td>\n",
       "      <td>56.0</td>\n",
       "    </tr>\n",
       "    <tr>\n",
       "      <th>h2o_c</th>\n",
       "      <td>0.003854</td>\n",
       "      <td>2.664570</td>\n",
       "      <td>-0.511701</td>\n",
       "      <td>0.952951</td>\n",
       "      <td>551.0</td>\n",
       "    </tr>\n",
       "    <tr>\n",
       "      <th>atp_c</th>\n",
       "      <td>0.004910</td>\n",
       "      <td>2.582137</td>\n",
       "      <td>-0.477499</td>\n",
       "      <td>1.026978</td>\n",
       "      <td>342.0</td>\n",
       "    </tr>\n",
       "    <tr>\n",
       "      <th>adp_c</th>\n",
       "      <td>0.005580</td>\n",
       "      <td>2.537653</td>\n",
       "      <td>-0.471624</td>\n",
       "      <td>1.056136</td>\n",
       "      <td>309.0</td>\n",
       "    </tr>\n",
       "    <tr>\n",
       "      <th>pi_c</th>\n",
       "      <td>0.019712</td>\n",
       "      <td>2.059733</td>\n",
       "      <td>-0.508153</td>\n",
       "      <td>1.066590</td>\n",
       "      <td>315.0</td>\n",
       "    </tr>\n",
       "    <tr>\n",
       "      <th>ptrc_p</th>\n",
       "      <td>0.023374</td>\n",
       "      <td>1.988571</td>\n",
       "      <td>-0.071768</td>\n",
       "      <td>0.429209</td>\n",
       "      <td>19.0</td>\n",
       "    </tr>\n",
       "    <tr>\n",
       "      <th>gln__L_c</th>\n",
       "      <td>0.026748</td>\n",
       "      <td>1.930893</td>\n",
       "      <td>-0.128925</td>\n",
       "      <td>0.401942</td>\n",
       "      <td>22.0</td>\n",
       "    </tr>\n",
       "    <tr>\n",
       "      <th>glc__D_p</th>\n",
       "      <td>0.028584</td>\n",
       "      <td>1.902023</td>\n",
       "      <td>-0.146143</td>\n",
       "      <td>0.681053</td>\n",
       "      <td>23.0</td>\n",
       "    </tr>\n",
       "    <tr>\n",
       "      <th>fadh2_c</th>\n",
       "      <td>0.031439</td>\n",
       "      <td>1.860055</td>\n",
       "      <td>-0.014573</td>\n",
       "      <td>0.338252</td>\n",
       "      <td>14.0</td>\n",
       "    </tr>\n",
       "    <tr>\n",
       "      <th>ptrc_c</th>\n",
       "      <td>0.035679</td>\n",
       "      <td>1.803195</td>\n",
       "      <td>-0.152727</td>\n",
       "      <td>0.544655</td>\n",
       "      <td>21.0</td>\n",
       "    </tr>\n",
       "    <tr>\n",
       "      <th>4abut_c</th>\n",
       "      <td>0.036439</td>\n",
       "      <td>1.793596</td>\n",
       "      <td>0.154770</td>\n",
       "      <td>0.271511</td>\n",
       "      <td>8.0</td>\n",
       "    </tr>\n",
       "    <tr>\n",
       "      <th>q8_c</th>\n",
       "      <td>0.038559</td>\n",
       "      <td>1.767654</td>\n",
       "      <td>-0.417310</td>\n",
       "      <td>0.706532</td>\n",
       "      <td>89.0</td>\n",
       "    </tr>\n",
       "    <tr>\n",
       "      <th>fru_p</th>\n",
       "      <td>0.040182</td>\n",
       "      <td>1.748581</td>\n",
       "      <td>0.017754</td>\n",
       "      <td>0.228459</td>\n",
       "      <td>11.0</td>\n",
       "    </tr>\n",
       "    <tr>\n",
       "      <th>ala__L_c</th>\n",
       "      <td>0.041742</td>\n",
       "      <td>1.730815</td>\n",
       "      <td>-0.192243</td>\n",
       "      <td>0.768846</td>\n",
       "      <td>23.0</td>\n",
       "    </tr>\n",
       "    <tr>\n",
       "      <th>fad_c</th>\n",
       "      <td>0.045456</td>\n",
       "      <td>1.690605</td>\n",
       "      <td>-0.112351</td>\n",
       "      <td>0.534738</td>\n",
       "      <td>16.0</td>\n",
       "    </tr>\n",
       "    <tr>\n",
       "      <th>q8h2_c</th>\n",
       "      <td>0.052463</td>\n",
       "      <td>1.621428</td>\n",
       "      <td>-0.437920</td>\n",
       "      <td>0.729004</td>\n",
       "      <td>90.0</td>\n",
       "    </tr>\n",
       "    <tr>\n",
       "      <th>man_p</th>\n",
       "      <td>0.054564</td>\n",
       "      <td>1.602128</td>\n",
       "      <td>0.029221</td>\n",
       "      <td>0.213414</td>\n",
       "      <td>9.0</td>\n",
       "    </tr>\n",
       "    <tr>\n",
       "      <th>acmana_p</th>\n",
       "      <td>0.054564</td>\n",
       "      <td>1.602128</td>\n",
       "      <td>0.029221</td>\n",
       "      <td>0.213414</td>\n",
       "      <td>9.0</td>\n",
       "    </tr>\n",
       "    <tr>\n",
       "      <th>2dglc_p</th>\n",
       "      <td>0.054564</td>\n",
       "      <td>1.602128</td>\n",
       "      <td>0.029221</td>\n",
       "      <td>0.213414</td>\n",
       "      <td>9.0</td>\n",
       "    </tr>\n",
       "  </tbody>\n",
       "</table>\n",
       "</div>"
      ],
      "text/plain": [
       "           p-value  corrected Z    mean Z     std Z  gene number\n",
       "h_c       0.001015     3.085931 -0.524420  1.097564        885.0\n",
       "glu__L_c  0.003567     2.690531 -0.195846  0.592217         56.0\n",
       "h2o_c     0.003854     2.664570 -0.511701  0.952951        551.0\n",
       "atp_c     0.004910     2.582137 -0.477499  1.026978        342.0\n",
       "adp_c     0.005580     2.537653 -0.471624  1.056136        309.0\n",
       "pi_c      0.019712     2.059733 -0.508153  1.066590        315.0\n",
       "ptrc_p    0.023374     1.988571 -0.071768  0.429209         19.0\n",
       "gln__L_c  0.026748     1.930893 -0.128925  0.401942         22.0\n",
       "glc__D_p  0.028584     1.902023 -0.146143  0.681053         23.0\n",
       "fadh2_c   0.031439     1.860055 -0.014573  0.338252         14.0\n",
       "ptrc_c    0.035679     1.803195 -0.152727  0.544655         21.0\n",
       "4abut_c   0.036439     1.793596  0.154770  0.271511          8.0\n",
       "q8_c      0.038559     1.767654 -0.417310  0.706532         89.0\n",
       "fru_p     0.040182     1.748581  0.017754  0.228459         11.0\n",
       "ala__L_c  0.041742     1.730815 -0.192243  0.768846         23.0\n",
       "fad_c     0.045456     1.690605 -0.112351  0.534738         16.0\n",
       "q8h2_c    0.052463     1.621428 -0.437920  0.729004         90.0\n",
       "man_p     0.054564     1.602128  0.029221  0.213414          9.0\n",
       "acmana_p  0.054564     1.602128  0.029221  0.213414          9.0\n",
       "2dglc_p   0.054564     1.602128  0.029221  0.213414          9.0"
      ]
     },
     "execution_count": 12,
     "metadata": {},
     "output_type": "execute_result"
    }
   ],
   "source": [
    "rep_met.head(20)"
   ]
  },
  {
   "cell_type": "markdown",
   "metadata": {},
   "source": [
    "**Information of the reactions associated to the top-16 reporter metabolites**"
   ]
  },
  {
   "cell_type": "code",
   "execution_count": 13,
   "metadata": {},
   "outputs": [
    {
     "name": "stdout",
     "output_type": "stream",
     "text": [
      "Using list of metabolites to get reactions where they participate. Also, getting genes of those reactions.\n",
      "Information correctly obtained.\n"
     ]
    },
    {
     "name": "stderr",
     "output_type": "stream",
     "text": [
      "/Users/earmingol/Dropbox/Universidad/UCSanDiego/Lab_Lewis/cobra_utils/cobra_utils/query/rxn_info.py:40 \u001b[1;31mUserWarning\u001b[0m: set() are not in the model\n"
     ]
    }
   ],
   "source": [
    "rxn_info = cobra_utils.query.rxn_info_from_metabolites(model, list(rep_met.head(16).index))"
   ]
  },
  {
   "cell_type": "code",
   "execution_count": 14,
   "metadata": {},
   "outputs": [
    {
     "data": {
      "text/html": [
       "<div>\n",
       "<style scoped>\n",
       "    .dataframe tbody tr th:only-of-type {\n",
       "        vertical-align: middle;\n",
       "    }\n",
       "\n",
       "    .dataframe tbody tr th {\n",
       "        vertical-align: top;\n",
       "    }\n",
       "\n",
       "    .dataframe thead th {\n",
       "        text-align: right;\n",
       "    }\n",
       "</style>\n",
       "<table border=\"1\" class=\"dataframe\">\n",
       "  <thead>\n",
       "    <tr style=\"text-align: right;\">\n",
       "      <th></th>\n",
       "      <th>MetID</th>\n",
       "      <th>MetName</th>\n",
       "      <th>RxnID</th>\n",
       "      <th>RxnName</th>\n",
       "      <th>GeneID</th>\n",
       "      <th>Subsystem</th>\n",
       "      <th>RxnFormula</th>\n",
       "    </tr>\n",
       "  </thead>\n",
       "  <tbody>\n",
       "    <tr>\n",
       "      <th>0</th>\n",
       "      <td>4abut_c</td>\n",
       "      <td>4-Aminobutanoate</td>\n",
       "      <td>GLUABUTt7pp</td>\n",
       "      <td>4-aminobutyrate/glutamate antiport (periplasm)</td>\n",
       "      <td>b1492</td>\n",
       "      <td></td>\n",
       "      <td>4abut_c + glu__L_p &lt;=&gt; 4abut_p + glu__L_c</td>\n",
       "    </tr>\n",
       "    <tr>\n",
       "      <th>1</th>\n",
       "      <td>4abut_c</td>\n",
       "      <td>4-Aminobutanoate</td>\n",
       "      <td>GLUDC</td>\n",
       "      <td>Glutamate Decarboxylase</td>\n",
       "      <td>b3517</td>\n",
       "      <td></td>\n",
       "      <td>glu__L_c + h_c --&gt; 4abut_c + co2_c</td>\n",
       "    </tr>\n",
       "    <tr>\n",
       "      <th>2</th>\n",
       "      <td>4abut_c</td>\n",
       "      <td>4-Aminobutanoate</td>\n",
       "      <td>GLUDC</td>\n",
       "      <td>Glutamate Decarboxylase</td>\n",
       "      <td>b1493</td>\n",
       "      <td></td>\n",
       "      <td>glu__L_c + h_c --&gt; 4abut_c + co2_c</td>\n",
       "    </tr>\n",
       "    <tr>\n",
       "      <th>3</th>\n",
       "      <td>4abut_c</td>\n",
       "      <td>4-Aminobutanoate</td>\n",
       "      <td>GGGABAH</td>\n",
       "      <td>Gamma-glutamyl-gamma-aminobutyric acid hydrolase</td>\n",
       "      <td>b1298</td>\n",
       "      <td></td>\n",
       "      <td>gg4abut_c + h2o_c --&gt; 4abut_c + glu__L_c</td>\n",
       "    </tr>\n",
       "    <tr>\n",
       "      <th>4</th>\n",
       "      <td>4abut_c</td>\n",
       "      <td>4-Aminobutanoate</td>\n",
       "      <td>ABTA</td>\n",
       "      <td>4-aminobutyrate transaminase</td>\n",
       "      <td>b2662</td>\n",
       "      <td></td>\n",
       "      <td>4abut_c + akg_c --&gt; glu__L_c + sucsal_c</td>\n",
       "    </tr>\n",
       "    <tr>\n",
       "      <th>...</th>\n",
       "      <td>...</td>\n",
       "      <td>...</td>\n",
       "      <td>...</td>\n",
       "      <td>...</td>\n",
       "      <td>...</td>\n",
       "      <td>...</td>\n",
       "      <td>...</td>\n",
       "    </tr>\n",
       "    <tr>\n",
       "      <th>5833</th>\n",
       "      <td>fad_c</td>\n",
       "      <td>Flavin adenine dinucleotide oxidized</td>\n",
       "      <td>ACOAD1f</td>\n",
       "      <td>Acyl-CoA dehydrogenase (butanoyl-CoA)</td>\n",
       "      <td>b0221</td>\n",
       "      <td></td>\n",
       "      <td>btcoa_c + fad_c --&gt; b2coa_c + fadh2_c</td>\n",
       "    </tr>\n",
       "    <tr>\n",
       "      <th>5834</th>\n",
       "      <td>fad_c</td>\n",
       "      <td>Flavin adenine dinucleotide oxidized</td>\n",
       "      <td>DAAD</td>\n",
       "      <td>D-Amino acid dehydrogenase</td>\n",
       "      <td>b1189</td>\n",
       "      <td></td>\n",
       "      <td>ala__D_c + fad_c + h2o_c --&gt; fadh2_c + nh4_c +...</td>\n",
       "    </tr>\n",
       "    <tr>\n",
       "      <th>5835</th>\n",
       "      <td>fad_c</td>\n",
       "      <td>Flavin adenine dinucleotide oxidized</td>\n",
       "      <td>ARBTNR1</td>\n",
       "      <td>Aerobactin reductase</td>\n",
       "      <td></td>\n",
       "      <td></td>\n",
       "      <td>2.0 arbtn_fe3_c + fadh2_c --&gt; 2.0 arbtn_c + fa...</td>\n",
       "    </tr>\n",
       "    <tr>\n",
       "      <th>5836</th>\n",
       "      <td>fad_c</td>\n",
       "      <td>Flavin adenine dinucleotide oxidized</td>\n",
       "      <td>FADRx2</td>\n",
       "      <td>FAD reductase</td>\n",
       "      <td>b2763</td>\n",
       "      <td></td>\n",
       "      <td>fad_c + h_c + nadph_c --&gt; fadh2_c + nadp_c</td>\n",
       "    </tr>\n",
       "    <tr>\n",
       "      <th>5837</th>\n",
       "      <td>fad_c</td>\n",
       "      <td>Flavin adenine dinucleotide oxidized</td>\n",
       "      <td>FADRx2</td>\n",
       "      <td>FAD reductase</td>\n",
       "      <td>b2764</td>\n",
       "      <td></td>\n",
       "      <td>fad_c + h_c + nadph_c --&gt; fadh2_c + nadp_c</td>\n",
       "    </tr>\n",
       "  </tbody>\n",
       "</table>\n",
       "<p>5838 rows × 7 columns</p>\n",
       "</div>"
      ],
      "text/plain": [
       "        MetID                               MetName        RxnID  \\\n",
       "0     4abut_c                      4-Aminobutanoate  GLUABUTt7pp   \n",
       "1     4abut_c                      4-Aminobutanoate        GLUDC   \n",
       "2     4abut_c                      4-Aminobutanoate        GLUDC   \n",
       "3     4abut_c                      4-Aminobutanoate      GGGABAH   \n",
       "4     4abut_c                      4-Aminobutanoate         ABTA   \n",
       "...       ...                                   ...          ...   \n",
       "5833    fad_c  Flavin adenine dinucleotide oxidized      ACOAD1f   \n",
       "5834    fad_c  Flavin adenine dinucleotide oxidized         DAAD   \n",
       "5835    fad_c  Flavin adenine dinucleotide oxidized      ARBTNR1   \n",
       "5836    fad_c  Flavin adenine dinucleotide oxidized       FADRx2   \n",
       "5837    fad_c  Flavin adenine dinucleotide oxidized       FADRx2   \n",
       "\n",
       "                                               RxnName GeneID Subsystem  \\\n",
       "0       4-aminobutyrate/glutamate antiport (periplasm)  b1492             \n",
       "1                              Glutamate Decarboxylase  b3517             \n",
       "2                              Glutamate Decarboxylase  b1493             \n",
       "3     Gamma-glutamyl-gamma-aminobutyric acid hydrolase  b1298             \n",
       "4                         4-aminobutyrate transaminase  b2662             \n",
       "...                                                ...    ...       ...   \n",
       "5833             Acyl-CoA dehydrogenase (butanoyl-CoA)  b0221             \n",
       "5834                        D-Amino acid dehydrogenase  b1189             \n",
       "5835                              Aerobactin reductase                    \n",
       "5836                                     FAD reductase  b2763             \n",
       "5837                                     FAD reductase  b2764             \n",
       "\n",
       "                                             RxnFormula  \n",
       "0             4abut_c + glu__L_p <=> 4abut_p + glu__L_c  \n",
       "1                    glu__L_c + h_c --> 4abut_c + co2_c  \n",
       "2                    glu__L_c + h_c --> 4abut_c + co2_c  \n",
       "3              gg4abut_c + h2o_c --> 4abut_c + glu__L_c  \n",
       "4               4abut_c + akg_c --> glu__L_c + sucsal_c  \n",
       "...                                                 ...  \n",
       "5833              btcoa_c + fad_c --> b2coa_c + fadh2_c  \n",
       "5834  ala__D_c + fad_c + h2o_c --> fadh2_c + nh4_c +...  \n",
       "5835  2.0 arbtn_fe3_c + fadh2_c --> 2.0 arbtn_c + fa...  \n",
       "5836         fad_c + h_c + nadph_c --> fadh2_c + nadp_c  \n",
       "5837         fad_c + h_c + nadph_c --> fadh2_c + nadp_c  \n",
       "\n",
       "[5838 rows x 7 columns]"
      ]
     },
     "execution_count": 14,
     "metadata": {},
     "output_type": "execute_result"
    }
   ],
   "source": [
    "rxn_info"
   ]
  },
  {
   "cell_type": "markdown",
   "metadata": {},
   "source": [
    "## Reporter pathways"
   ]
  },
  {
   "cell_type": "markdown",
   "metadata": {},
   "source": [
    "This model does not contain information about subsystems. Simulate random pathways"
   ]
  },
  {
   "cell_type": "code",
   "execution_count": 15,
   "metadata": {},
   "outputs": [],
   "source": [
    "import random\n",
    "\n",
    "rxn_pathways_association = dict()\n",
    "rxns_ = cobra_utils.query.get_rxn_ids(model)\n",
    "number_pathways = 10\n",
    "random.shuffle(rxns_)\n",
    "split_rxns = np.array_split(rxns_, number_pathways)\n",
    "\n",
    "for i in range(number_pathways):\n",
    "    rxn_pathways_association['Pathway{}'.format(i+1)] = split_rxns[i].tolist()\n",
    "    "
   ]
  },
  {
   "cell_type": "markdown",
   "metadata": {},
   "source": [
    "**Compute reporter pathways**"
   ]
  },
  {
   "cell_type": "code",
   "execution_count": 16,
   "metadata": {},
   "outputs": [],
   "source": [
    "genes_in_model = cobra_utils.query.get_gene_ids(model)"
   ]
  },
  {
   "cell_type": "code",
   "execution_count": 17,
   "metadata": {},
   "outputs": [
    {
     "name": "stdout",
     "output_type": "stream",
     "text": [
      "Running reporter pathways analysis\n"
     ]
    }
   ],
   "source": [
    "rep_pathways = cobra_utils.topology.reporter_pathways(model,\n",
    "                                                      gene_expression.loc[gene_expression.index.isin(genes_in_model),\n",
    "                                                                          ['corrected p-value']],\n",
    "                                                      rxn_pathways_association=rxn_pathways_association\n",
    "                                                     )"
   ]
  },
  {
   "cell_type": "markdown",
   "metadata": {},
   "source": [
    "**Top 20 reporter pathways**"
   ]
  },
  {
   "cell_type": "code",
   "execution_count": 18,
   "metadata": {},
   "outputs": [
    {
     "data": {
      "text/html": [
       "<div>\n",
       "<style scoped>\n",
       "    .dataframe tbody tr th:only-of-type {\n",
       "        vertical-align: middle;\n",
       "    }\n",
       "\n",
       "    .dataframe tbody tr th {\n",
       "        vertical-align: top;\n",
       "    }\n",
       "\n",
       "    .dataframe thead th {\n",
       "        text-align: right;\n",
       "    }\n",
       "</style>\n",
       "<table border=\"1\" class=\"dataframe\">\n",
       "  <thead>\n",
       "    <tr style=\"text-align: right;\">\n",
       "      <th></th>\n",
       "      <th>p-value</th>\n",
       "      <th>corrected Z</th>\n",
       "      <th>mean Z</th>\n",
       "      <th>std Z</th>\n",
       "      <th>gene number</th>\n",
       "    </tr>\n",
       "  </thead>\n",
       "  <tbody>\n",
       "    <tr>\n",
       "      <th>Pathway9</th>\n",
       "      <td>0.095795</td>\n",
       "      <td>1.305889</td>\n",
       "      <td>-0.466886</td>\n",
       "      <td>0.700554</td>\n",
       "      <td>288.0</td>\n",
       "    </tr>\n",
       "    <tr>\n",
       "      <th>Pathway3</th>\n",
       "      <td>0.183164</td>\n",
       "      <td>0.903373</td>\n",
       "      <td>-0.492649</td>\n",
       "      <td>0.746314</td>\n",
       "      <td>300.0</td>\n",
       "    </tr>\n",
       "    <tr>\n",
       "      <th>Pathway4</th>\n",
       "      <td>0.296459</td>\n",
       "      <td>0.534612</td>\n",
       "      <td>-0.514042</td>\n",
       "      <td>0.755820</td>\n",
       "      <td>282.0</td>\n",
       "    </tr>\n",
       "    <tr>\n",
       "      <th>Pathway5</th>\n",
       "      <td>0.342639</td>\n",
       "      <td>0.405273</td>\n",
       "      <td>-0.523138</td>\n",
       "      <td>1.118155</td>\n",
       "      <td>298.0</td>\n",
       "    </tr>\n",
       "    <tr>\n",
       "      <th>Pathway7</th>\n",
       "      <td>0.419479</td>\n",
       "      <td>0.203227</td>\n",
       "      <td>-0.534673</td>\n",
       "      <td>0.721534</td>\n",
       "      <td>274.0</td>\n",
       "    </tr>\n",
       "    <tr>\n",
       "      <th>Pathway8</th>\n",
       "      <td>0.557512</td>\n",
       "      <td>-0.144664</td>\n",
       "      <td>-0.556600</td>\n",
       "      <td>1.125027</td>\n",
       "      <td>281.0</td>\n",
       "    </tr>\n",
       "    <tr>\n",
       "      <th>Pathway1</th>\n",
       "      <td>0.559028</td>\n",
       "      <td>-0.148505</td>\n",
       "      <td>-0.557107</td>\n",
       "      <td>0.798160</td>\n",
       "      <td>266.0</td>\n",
       "    </tr>\n",
       "    <tr>\n",
       "      <th>Pathway2</th>\n",
       "      <td>0.599971</td>\n",
       "      <td>-0.253272</td>\n",
       "      <td>-0.563281</td>\n",
       "      <td>1.145849</td>\n",
       "      <td>286.0</td>\n",
       "    </tr>\n",
       "    <tr>\n",
       "      <th>Pathway10</th>\n",
       "      <td>0.691828</td>\n",
       "      <td>-0.501038</td>\n",
       "      <td>-0.580386</td>\n",
       "      <td>1.162774</td>\n",
       "      <td>258.0</td>\n",
       "    </tr>\n",
       "    <tr>\n",
       "      <th>Pathway6</th>\n",
       "      <td>0.960144</td>\n",
       "      <td>-1.752361</td>\n",
       "      <td>-0.652387</td>\n",
       "      <td>1.592258</td>\n",
       "      <td>307.0</td>\n",
       "    </tr>\n",
       "  </tbody>\n",
       "</table>\n",
       "</div>"
      ],
      "text/plain": [
       "            p-value  corrected Z    mean Z     std Z  gene number\n",
       "Pathway9   0.095795     1.305889 -0.466886  0.700554        288.0\n",
       "Pathway3   0.183164     0.903373 -0.492649  0.746314        300.0\n",
       "Pathway4   0.296459     0.534612 -0.514042  0.755820        282.0\n",
       "Pathway5   0.342639     0.405273 -0.523138  1.118155        298.0\n",
       "Pathway7   0.419479     0.203227 -0.534673  0.721534        274.0\n",
       "Pathway8   0.557512    -0.144664 -0.556600  1.125027        281.0\n",
       "Pathway1   0.559028    -0.148505 -0.557107  0.798160        266.0\n",
       "Pathway2   0.599971    -0.253272 -0.563281  1.145849        286.0\n",
       "Pathway10  0.691828    -0.501038 -0.580386  1.162774        258.0\n",
       "Pathway6   0.960144    -1.752361 -0.652387  1.592258        307.0"
      ]
     },
     "execution_count": 18,
     "metadata": {},
     "output_type": "execute_result"
    }
   ],
   "source": [
    "rep_pathways.head(20)"
   ]
  },
  {
   "cell_type": "code",
   "execution_count": null,
   "metadata": {},
   "outputs": [],
   "source": []
  }
 ],
 "metadata": {
  "kernelspec": {
   "display_name": "Python 3",
   "language": "python",
   "name": "python3"
  },
  "language_info": {
   "codemirror_mode": {
    "name": "ipython",
    "version": 3
   },
   "file_extension": ".py",
   "mimetype": "text/x-python",
   "name": "python",
   "nbconvert_exporter": "python",
   "pygments_lexer": "ipython3",
   "version": "3.7.6"
  }
 },
 "nbformat": 4,
 "nbformat_minor": 2
}
