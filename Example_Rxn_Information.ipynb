{
 "cells": [
  {
   "cell_type": "code",
   "execution_count": 1,
   "metadata": {},
   "outputs": [],
   "source": [
    "import cobra, cobra_utils\n",
    "import pandas as pd"
   ]
  },
  {
   "cell_type": "markdown",
   "metadata": {},
   "source": [
    "# Data location"
   ]
  },
  {
   "cell_type": "code",
   "execution_count": 2,
   "metadata": {},
   "outputs": [],
   "source": [
    "model_filename = './data/iJO1366.xml.gz'"
   ]
  },
  {
   "cell_type": "markdown",
   "metadata": {},
   "source": [
    "# Load data"
   ]
  },
  {
   "cell_type": "code",
   "execution_count": 3,
   "metadata": {},
   "outputs": [
    {
     "name": "stdout",
     "output_type": "stream",
     "text": [
      "Loading genome-scale model\n",
      "Model correctly loaded.\n"
     ]
    }
   ],
   "source": [
    "model = cobra_utils.io.load_model(model_filename, format='sbml')"
   ]
  },
  {
   "cell_type": "code",
   "execution_count": 4,
   "metadata": {},
   "outputs": [
    {
     "data": {
      "text/html": [
       "\n",
       "        <table>\n",
       "            <tr>\n",
       "                <td><strong>Name</strong></td>\n",
       "                <td>iJO1366</td>\n",
       "            </tr><tr>\n",
       "                <td><strong>Memory address</strong></td>\n",
       "                <td>0x010118b8390</td>\n",
       "            </tr><tr>\n",
       "                <td><strong>Number of metabolites</strong></td>\n",
       "                <td>1805</td>\n",
       "            </tr><tr>\n",
       "                <td><strong>Number of reactions</strong></td>\n",
       "                <td>2583</td>\n",
       "            </tr><tr>\n",
       "                <td><strong>Objective expression</strong></td>\n",
       "                <td>-1.0*BIOMASS_Ec_iJO1366_core_53p95M_reverse_5c8b1 + 1.0*BIOMASS_Ec_iJO1366_core_53p95M</td>\n",
       "            </tr><tr>\n",
       "                <td><strong>Compartments</strong></td>\n",
       "                <td>cytosol, extracellular space, periplasm</td>\n",
       "            </tr>\n",
       "          </table>"
      ],
      "text/plain": [
       "<Model iJO1366 at 0x10118b8390>"
      ]
     },
     "execution_count": 4,
     "metadata": {},
     "output_type": "execute_result"
    }
   ],
   "source": [
    "model"
   ]
  },
  {
   "cell_type": "markdown",
   "metadata": {},
   "source": [
    "# Retrieving information"
   ]
  },
  {
   "cell_type": "markdown",
   "metadata": {},
   "source": [
    "## From metabolites"
   ]
  },
  {
   "cell_type": "code",
   "execution_count": 5,
   "metadata": {},
   "outputs": [],
   "source": [
    "mets = ['nadh_c',\n",
    "        'nadph_c']"
   ]
  },
  {
   "cell_type": "code",
   "execution_count": 6,
   "metadata": {},
   "outputs": [
    {
     "name": "stdout",
     "output_type": "stream",
     "text": [
      "Using list of metabolites to get reactions where they participate. Also, getting genes of those reactions.\n",
      "Information correctly obtained.\n"
     ]
    }
   ],
   "source": [
    "info_from_mets = cobra_utils.query.rxn_info_from_metabolites(model, mets)"
   ]
  },
  {
   "cell_type": "code",
   "execution_count": 7,
   "metadata": {},
   "outputs": [
    {
     "data": {
      "text/html": [
       "<div>\n",
       "<style scoped>\n",
       "    .dataframe tbody tr th:only-of-type {\n",
       "        vertical-align: middle;\n",
       "    }\n",
       "\n",
       "    .dataframe tbody tr th {\n",
       "        vertical-align: top;\n",
       "    }\n",
       "\n",
       "    .dataframe thead th {\n",
       "        text-align: right;\n",
       "    }\n",
       "</style>\n",
       "<table border=\"1\" class=\"dataframe\">\n",
       "  <thead>\n",
       "    <tr style=\"text-align: right;\">\n",
       "      <th></th>\n",
       "      <th>RxnID</th>\n",
       "      <th>RxnName</th>\n",
       "      <th>GeneID</th>\n",
       "      <th>Subsystem</th>\n",
       "      <th>RxnFormula</th>\n",
       "      <th>MetID</th>\n",
       "      <th>MetName</th>\n",
       "    </tr>\n",
       "  </thead>\n",
       "  <tbody>\n",
       "    <tr>\n",
       "      <th>0</th>\n",
       "      <td>HPYRRx</td>\n",
       "      <td>Hydroxypyruvate reductase (NADH)</td>\n",
       "      <td>b1033</td>\n",
       "      <td></td>\n",
       "      <td>h_c + hpyr_c + nadh_c --&gt; glyc__R_c + nad_c</td>\n",
       "      <td>nadh_c</td>\n",
       "      <td>Nicotinamide adenine dinucleotide - reduced</td>\n",
       "    </tr>\n",
       "    <tr>\n",
       "      <th>1</th>\n",
       "      <td>HPYRRx</td>\n",
       "      <td>Hydroxypyruvate reductase (NADH)</td>\n",
       "      <td>b3553</td>\n",
       "      <td></td>\n",
       "      <td>h_c + hpyr_c + nadh_c --&gt; glyc__R_c + nad_c</td>\n",
       "      <td>nadh_c</td>\n",
       "      <td>Nicotinamide adenine dinucleotide - reduced</td>\n",
       "    </tr>\n",
       "    <tr>\n",
       "      <th>2</th>\n",
       "      <td>HISTD</td>\n",
       "      <td>Histidinol dehydrogenase</td>\n",
       "      <td>b2020</td>\n",
       "      <td></td>\n",
       "      <td>h2o_c + histd_c + 2.0 nad_c --&gt; 3.0 h_c + his_...</td>\n",
       "      <td>nadh_c</td>\n",
       "      <td>Nicotinamide adenine dinucleotide - reduced</td>\n",
       "    </tr>\n",
       "    <tr>\n",
       "      <th>3</th>\n",
       "      <td>LCARS</td>\n",
       "      <td>Lacaldehyde reductase (S-propane-1,2-diol form...</td>\n",
       "      <td>b2799</td>\n",
       "      <td></td>\n",
       "      <td>h_c + lald__L_c + nadh_c &lt;=&gt; 12ppd__S_c + nad_c</td>\n",
       "      <td>nadh_c</td>\n",
       "      <td>Nicotinamide adenine dinucleotide - reduced</td>\n",
       "    </tr>\n",
       "    <tr>\n",
       "      <th>4</th>\n",
       "      <td>PDX5PS</td>\n",
       "      <td>Pyridoxine 5'-phosphate synthase</td>\n",
       "      <td>b0052</td>\n",
       "      <td></td>\n",
       "      <td>dxyl5p_c + nad_c + phthr_c --&gt; co2_c + 2.0 h2o...</td>\n",
       "      <td>nadh_c</td>\n",
       "      <td>Nicotinamide adenine dinucleotide - reduced</td>\n",
       "    </tr>\n",
       "  </tbody>\n",
       "</table>\n",
       "</div>"
      ],
      "text/plain": [
       "    RxnID                                            RxnName GeneID Subsystem  \\\n",
       "0  HPYRRx                   Hydroxypyruvate reductase (NADH)  b1033             \n",
       "1  HPYRRx                   Hydroxypyruvate reductase (NADH)  b3553             \n",
       "2   HISTD                           Histidinol dehydrogenase  b2020             \n",
       "3   LCARS  Lacaldehyde reductase (S-propane-1,2-diol form...  b2799             \n",
       "4  PDX5PS                   Pyridoxine 5'-phosphate synthase  b0052             \n",
       "\n",
       "                                          RxnFormula   MetID  \\\n",
       "0        h_c + hpyr_c + nadh_c --> glyc__R_c + nad_c  nadh_c   \n",
       "1        h_c + hpyr_c + nadh_c --> glyc__R_c + nad_c  nadh_c   \n",
       "2  h2o_c + histd_c + 2.0 nad_c --> 3.0 h_c + his_...  nadh_c   \n",
       "3    h_c + lald__L_c + nadh_c <=> 12ppd__S_c + nad_c  nadh_c   \n",
       "4  dxyl5p_c + nad_c + phthr_c --> co2_c + 2.0 h2o...  nadh_c   \n",
       "\n",
       "                                       MetName  \n",
       "0  Nicotinamide adenine dinucleotide - reduced  \n",
       "1  Nicotinamide adenine dinucleotide - reduced  \n",
       "2  Nicotinamide adenine dinucleotide - reduced  \n",
       "3  Nicotinamide adenine dinucleotide - reduced  \n",
       "4  Nicotinamide adenine dinucleotide - reduced  "
      ]
     },
     "execution_count": 7,
     "metadata": {},
     "output_type": "execute_result"
    }
   ],
   "source": [
    "info_from_mets.head()"
   ]
  },
  {
   "cell_type": "markdown",
   "metadata": {},
   "source": [
    "## From reactions"
   ]
  },
  {
   "cell_type": "code",
   "execution_count": 8,
   "metadata": {},
   "outputs": [],
   "source": [
    "rxns = ['ICDHyr',\n",
    "        'ICL']"
   ]
  },
  {
   "cell_type": "code",
   "execution_count": 9,
   "metadata": {},
   "outputs": [
    {
     "name": "stdout",
     "output_type": "stream",
     "text": [
      "Using list of reactions to get their information and genes associated.\n",
      "Information correctly obtained.\n"
     ]
    }
   ],
   "source": [
    "info_from_rxns = cobra_utils.query.rxn_info_from_reactions(model, rxns)"
   ]
  },
  {
   "cell_type": "code",
   "execution_count": 10,
   "metadata": {},
   "outputs": [
    {
     "data": {
      "text/html": [
       "<div>\n",
       "<style scoped>\n",
       "    .dataframe tbody tr th:only-of-type {\n",
       "        vertical-align: middle;\n",
       "    }\n",
       "\n",
       "    .dataframe tbody tr th {\n",
       "        vertical-align: top;\n",
       "    }\n",
       "\n",
       "    .dataframe thead th {\n",
       "        text-align: right;\n",
       "    }\n",
       "</style>\n",
       "<table border=\"1\" class=\"dataframe\">\n",
       "  <thead>\n",
       "    <tr style=\"text-align: right;\">\n",
       "      <th></th>\n",
       "      <th>GeneID</th>\n",
       "      <th>RxnID</th>\n",
       "      <th>RxnName</th>\n",
       "      <th>SubSystem</th>\n",
       "      <th>RxnFormula</th>\n",
       "    </tr>\n",
       "  </thead>\n",
       "  <tbody>\n",
       "    <tr>\n",
       "      <th>0</th>\n",
       "      <td>b1136</td>\n",
       "      <td>ICDHyr</td>\n",
       "      <td>Isocitrate dehydrogenase (NADP)</td>\n",
       "      <td></td>\n",
       "      <td>icit_c + nadp_c &lt;=&gt; akg_c + co2_c + nadph_c</td>\n",
       "    </tr>\n",
       "    <tr>\n",
       "      <th>1</th>\n",
       "      <td>b4015</td>\n",
       "      <td>ICL</td>\n",
       "      <td>Isocitrate lyase</td>\n",
       "      <td></td>\n",
       "      <td>icit_c --&gt; glx_c + succ_c</td>\n",
       "    </tr>\n",
       "  </tbody>\n",
       "</table>\n",
       "</div>"
      ],
      "text/plain": [
       "  GeneID   RxnID                          RxnName SubSystem  \\\n",
       "0  b1136  ICDHyr  Isocitrate dehydrogenase (NADP)             \n",
       "1  b4015     ICL                 Isocitrate lyase             \n",
       "\n",
       "                                    RxnFormula  \n",
       "0  icit_c + nadp_c <=> akg_c + co2_c + nadph_c  \n",
       "1                    icit_c --> glx_c + succ_c  "
      ]
     },
     "execution_count": 10,
     "metadata": {},
     "output_type": "execute_result"
    }
   ],
   "source": [
    "info_from_rxns.head()"
   ]
  },
  {
   "cell_type": "markdown",
   "metadata": {},
   "source": [
    "## From genes"
   ]
  },
  {
   "cell_type": "code",
   "execution_count": 11,
   "metadata": {},
   "outputs": [],
   "source": [
    "genes = ['b1602',\n",
    "         'b1603']"
   ]
  },
  {
   "cell_type": "code",
   "execution_count": 12,
   "metadata": {},
   "outputs": [
    {
     "name": "stdout",
     "output_type": "stream",
     "text": [
      "Using list of genes to get the reactions associated and their information.\n",
      "Information correctly obtained.\n"
     ]
    }
   ],
   "source": [
    "info_from_genes = cobra_utils.query.rxn_info_from_genes(model, genes)"
   ]
  },
  {
   "cell_type": "code",
   "execution_count": 13,
   "metadata": {},
   "outputs": [
    {
     "data": {
      "text/html": [
       "<div>\n",
       "<style scoped>\n",
       "    .dataframe tbody tr th:only-of-type {\n",
       "        vertical-align: middle;\n",
       "    }\n",
       "\n",
       "    .dataframe tbody tr th {\n",
       "        vertical-align: top;\n",
       "    }\n",
       "\n",
       "    .dataframe thead th {\n",
       "        text-align: right;\n",
       "    }\n",
       "</style>\n",
       "<table border=\"1\" class=\"dataframe\">\n",
       "  <thead>\n",
       "    <tr style=\"text-align: right;\">\n",
       "      <th></th>\n",
       "      <th>GeneID</th>\n",
       "      <th>RxnID</th>\n",
       "      <th>RxnName</th>\n",
       "      <th>SubSystem</th>\n",
       "      <th>RxnFormula</th>\n",
       "    </tr>\n",
       "  </thead>\n",
       "  <tbody>\n",
       "    <tr>\n",
       "      <th>0</th>\n",
       "      <td>b1602</td>\n",
       "      <td>THD2pp</td>\n",
       "      <td>NAD(P) transhydrogenase (periplasm)</td>\n",
       "      <td></td>\n",
       "      <td>2.0 h_p + nadh_c + nadp_c --&gt; 2.0 h_c + nad_c ...</td>\n",
       "    </tr>\n",
       "    <tr>\n",
       "      <th>1</th>\n",
       "      <td>b1602</td>\n",
       "      <td>NADTRHD</td>\n",
       "      <td>NAD transhydrogenase</td>\n",
       "      <td></td>\n",
       "      <td>nad_c + nadph_c --&gt; nadh_c + nadp_c</td>\n",
       "    </tr>\n",
       "    <tr>\n",
       "      <th>2</th>\n",
       "      <td>b1603</td>\n",
       "      <td>THD2pp</td>\n",
       "      <td>NAD(P) transhydrogenase (periplasm)</td>\n",
       "      <td></td>\n",
       "      <td>2.0 h_p + nadh_c + nadp_c --&gt; 2.0 h_c + nad_c ...</td>\n",
       "    </tr>\n",
       "    <tr>\n",
       "      <th>3</th>\n",
       "      <td>b1603</td>\n",
       "      <td>NADTRHD</td>\n",
       "      <td>NAD transhydrogenase</td>\n",
       "      <td></td>\n",
       "      <td>nad_c + nadph_c --&gt; nadh_c + nadp_c</td>\n",
       "    </tr>\n",
       "  </tbody>\n",
       "</table>\n",
       "</div>"
      ],
      "text/plain": [
       "  GeneID    RxnID                              RxnName SubSystem  \\\n",
       "0  b1602   THD2pp  NAD(P) transhydrogenase (periplasm)             \n",
       "1  b1602  NADTRHD                 NAD transhydrogenase             \n",
       "2  b1603   THD2pp  NAD(P) transhydrogenase (periplasm)             \n",
       "3  b1603  NADTRHD                 NAD transhydrogenase             \n",
       "\n",
       "                                          RxnFormula  \n",
       "0  2.0 h_p + nadh_c + nadp_c --> 2.0 h_c + nad_c ...  \n",
       "1                nad_c + nadph_c --> nadh_c + nadp_c  \n",
       "2  2.0 h_p + nadh_c + nadp_c --> 2.0 h_c + nad_c ...  \n",
       "3                nad_c + nadph_c --> nadh_c + nadp_c  "
      ]
     },
     "execution_count": 13,
     "metadata": {},
     "output_type": "execute_result"
    }
   ],
   "source": [
    "info_from_genes.head()"
   ]
  },
  {
   "cell_type": "markdown",
   "metadata": {},
   "source": [
    "## All rxns"
   ]
  },
  {
   "cell_type": "code",
   "execution_count": 14,
   "metadata": {},
   "outputs": [
    {
     "name": "stdout",
     "output_type": "stream",
     "text": [
      "Getting information for all reactions in the model.\n",
      "Information correctly obtained.\n"
     ]
    }
   ],
   "source": [
    "all_rxns = cobra_utils.query.rxn_info_from_model(model)"
   ]
  },
  {
   "cell_type": "code",
   "execution_count": 15,
   "metadata": {},
   "outputs": [
    {
     "data": {
      "text/html": [
       "<div>\n",
       "<style scoped>\n",
       "    .dataframe tbody tr th:only-of-type {\n",
       "        vertical-align: middle;\n",
       "    }\n",
       "\n",
       "    .dataframe tbody tr th {\n",
       "        vertical-align: top;\n",
       "    }\n",
       "\n",
       "    .dataframe thead th {\n",
       "        text-align: right;\n",
       "    }\n",
       "</style>\n",
       "<table border=\"1\" class=\"dataframe\">\n",
       "  <thead>\n",
       "    <tr style=\"text-align: right;\">\n",
       "      <th></th>\n",
       "      <th>GeneID</th>\n",
       "      <th>RxnID</th>\n",
       "      <th>RxnName</th>\n",
       "      <th>SubSystem</th>\n",
       "      <th>RxnFormula</th>\n",
       "    </tr>\n",
       "  </thead>\n",
       "  <tbody>\n",
       "    <tr>\n",
       "      <th>0</th>\n",
       "      <td>b0241</td>\n",
       "      <td>12PPDRtex</td>\n",
       "      <td>(R)-Propane-1,2-diol transport via diffusion (...</td>\n",
       "      <td></td>\n",
       "      <td>12ppd__R_e &lt;=&gt; 12ppd__R_p</td>\n",
       "    </tr>\n",
       "    <tr>\n",
       "      <th>1</th>\n",
       "      <td>b0929</td>\n",
       "      <td>12PPDRtex</td>\n",
       "      <td>(R)-Propane-1,2-diol transport via diffusion (...</td>\n",
       "      <td></td>\n",
       "      <td>12ppd__R_e &lt;=&gt; 12ppd__R_p</td>\n",
       "    </tr>\n",
       "    <tr>\n",
       "      <th>2</th>\n",
       "      <td>b2215</td>\n",
       "      <td>12PPDRtex</td>\n",
       "      <td>(R)-Propane-1,2-diol transport via diffusion (...</td>\n",
       "      <td></td>\n",
       "      <td>12ppd__R_e &lt;=&gt; 12ppd__R_p</td>\n",
       "    </tr>\n",
       "    <tr>\n",
       "      <th>3</th>\n",
       "      <td>b1377</td>\n",
       "      <td>12PPDRtex</td>\n",
       "      <td>(R)-Propane-1,2-diol transport via diffusion (...</td>\n",
       "      <td></td>\n",
       "      <td>12ppd__R_e &lt;=&gt; 12ppd__R_p</td>\n",
       "    </tr>\n",
       "    <tr>\n",
       "      <th>4</th>\n",
       "      <td>b0241</td>\n",
       "      <td>12PPDStex</td>\n",
       "      <td>(S)-Propane-1,2-diol transport via diffusion (...</td>\n",
       "      <td></td>\n",
       "      <td>12ppd__S_e &lt;=&gt; 12ppd__S_p</td>\n",
       "    </tr>\n",
       "  </tbody>\n",
       "</table>\n",
       "</div>"
      ],
      "text/plain": [
       "  GeneID      RxnID                                            RxnName  \\\n",
       "0  b0241  12PPDRtex  (R)-Propane-1,2-diol transport via diffusion (...   \n",
       "1  b0929  12PPDRtex  (R)-Propane-1,2-diol transport via diffusion (...   \n",
       "2  b2215  12PPDRtex  (R)-Propane-1,2-diol transport via diffusion (...   \n",
       "3  b1377  12PPDRtex  (R)-Propane-1,2-diol transport via diffusion (...   \n",
       "4  b0241  12PPDStex  (S)-Propane-1,2-diol transport via diffusion (...   \n",
       "\n",
       "  SubSystem                 RxnFormula  \n",
       "0            12ppd__R_e <=> 12ppd__R_p  \n",
       "1            12ppd__R_e <=> 12ppd__R_p  \n",
       "2            12ppd__R_e <=> 12ppd__R_p  \n",
       "3            12ppd__R_e <=> 12ppd__R_p  \n",
       "4            12ppd__S_e <=> 12ppd__S_p  "
      ]
     },
     "execution_count": 15,
     "metadata": {},
     "output_type": "execute_result"
    }
   ],
   "source": [
    "all_rxns.head()"
   ]
  },
  {
   "cell_type": "code",
   "execution_count": null,
   "metadata": {},
   "outputs": [],
   "source": []
  }
 ],
 "metadata": {
  "kernelspec": {
   "display_name": "Python 3",
   "language": "python",
   "name": "python3"
  },
  "language_info": {
   "codemirror_mode": {
    "name": "ipython",
    "version": 3
   },
   "file_extension": ".py",
   "mimetype": "text/x-python",
   "name": "python",
   "nbconvert_exporter": "python",
   "pygments_lexer": "ipython3",
   "version": "3.6.5"
  }
 },
 "nbformat": 4,
 "nbformat_minor": 2
}
