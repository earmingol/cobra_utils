{
 "cells": [
  {
   "cell_type": "code",
   "execution_count": 1,
   "metadata": {},
   "outputs": [],
   "source": [
    "import cobra, cobra_utils\n",
    "import pandas as pd"
   ]
  },
  {
   "cell_type": "markdown",
   "metadata": {},
   "source": [
    "# Data location"
   ]
  },
  {
   "cell_type": "code",
   "execution_count": 2,
   "metadata": {},
   "outputs": [],
   "source": [
    "model_filename = './data/iJO1366.xml.gz'"
   ]
  },
  {
   "cell_type": "markdown",
   "metadata": {},
   "source": [
    "# Load data"
   ]
  },
  {
   "cell_type": "code",
   "execution_count": 3,
   "metadata": {},
   "outputs": [
    {
     "name": "stdout",
     "output_type": "stream",
     "text": [
      "Loading genome-scale model\n",
      "Model correctly loaded.\n"
     ]
    }
   ],
   "source": [
    "model = cobra_utils.io.load_model(model_filename, format='sbml')"
   ]
  },
  {
   "cell_type": "code",
   "execution_count": 4,
   "metadata": {},
   "outputs": [
    {
     "data": {
      "text/html": [
       "\n",
       "        <table>\n",
       "            <tr>\n",
       "                <td><strong>Name</strong></td>\n",
       "                <td>iJO1366</td>\n",
       "            </tr><tr>\n",
       "                <td><strong>Memory address</strong></td>\n",
       "                <td>0x01111c59e8</td>\n",
       "            </tr><tr>\n",
       "                <td><strong>Number of metabolites</strong></td>\n",
       "                <td>1805</td>\n",
       "            </tr><tr>\n",
       "                <td><strong>Number of reactions</strong></td>\n",
       "                <td>2583</td>\n",
       "            </tr><tr>\n",
       "                <td><strong>Objective expression</strong></td>\n",
       "                <td>-1.0*BIOMASS_Ec_iJO1366_core_53p95M_reverse_5c8b1 + 1.0*BIOMASS_Ec_iJO1366_core_53p95M</td>\n",
       "            </tr><tr>\n",
       "                <td><strong>Compartments</strong></td>\n",
       "                <td>cytosol, extracellular space, periplasm</td>\n",
       "            </tr>\n",
       "          </table>"
      ],
      "text/plain": [
       "<Model iJO1366 at 0x1111c59e8>"
      ]
     },
     "execution_count": 4,
     "metadata": {},
     "output_type": "execute_result"
    }
   ],
   "source": [
    "model"
   ]
  },
  {
   "cell_type": "markdown",
   "metadata": {},
   "source": [
    "# Retrieving information"
   ]
  },
  {
   "cell_type": "markdown",
   "metadata": {},
   "source": [
    "## From metabolites"
   ]
  },
  {
   "cell_type": "code",
   "execution_count": 5,
   "metadata": {},
   "outputs": [],
   "source": [
    "mets = ['nadh_c',\n",
    "        'nadph_c']"
   ]
  },
  {
   "cell_type": "code",
   "execution_count": 6,
   "metadata": {},
   "outputs": [
    {
     "name": "stdout",
     "output_type": "stream",
     "text": [
      "Using list of metabolites to get reactions where they participate. Also, getting genes of those reactions.\n",
      "Information correctly obtained.\n"
     ]
    }
   ],
   "source": [
    "info_from_mets = cobra_utils.query.rxn_gene_associations_from_metabolites(model, mets)"
   ]
  },
  {
   "cell_type": "code",
   "execution_count": 7,
   "metadata": {},
   "outputs": [
    {
     "data": {
      "text/html": [
       "<div>\n",
       "<style scoped>\n",
       "    .dataframe tbody tr th:only-of-type {\n",
       "        vertical-align: middle;\n",
       "    }\n",
       "\n",
       "    .dataframe tbody tr th {\n",
       "        vertical-align: top;\n",
       "    }\n",
       "\n",
       "    .dataframe thead th {\n",
       "        text-align: right;\n",
       "    }\n",
       "</style>\n",
       "<table border=\"1\" class=\"dataframe\">\n",
       "  <thead>\n",
       "    <tr style=\"text-align: right;\">\n",
       "      <th></th>\n",
       "      <th>MetName</th>\n",
       "      <th>MetID</th>\n",
       "      <th>RxnID</th>\n",
       "      <th>RxnName</th>\n",
       "      <th>GeneID</th>\n",
       "      <th>Subsystem</th>\n",
       "      <th>RxnFormula</th>\n",
       "    </tr>\n",
       "  </thead>\n",
       "  <tbody>\n",
       "    <tr>\n",
       "      <th>0</th>\n",
       "      <td>Nicotinamide adenine dinucleotide - reduced</td>\n",
       "      <td>nadh_c</td>\n",
       "      <td>EAR60x</td>\n",
       "      <td>Enoyl-[acyl-carrier-protein] reductase (NADH) ...</td>\n",
       "      <td>b1288</td>\n",
       "      <td></td>\n",
       "      <td>h_c + nadh_c + thex2eACP_c --&gt; hexACP_c + nad_c</td>\n",
       "    </tr>\n",
       "    <tr>\n",
       "      <th>1</th>\n",
       "      <td>Nicotinamide adenine dinucleotide - reduced</td>\n",
       "      <td>nadh_c</td>\n",
       "      <td>DHPPD</td>\n",
       "      <td>2,3-dihydroxyphenylpropionate dehydrogenase</td>\n",
       "      <td>b2541</td>\n",
       "      <td></td>\n",
       "      <td>cechddd_c + nad_c --&gt; dhpppn_c + h_c + nadh_c</td>\n",
       "    </tr>\n",
       "    <tr>\n",
       "      <th>2</th>\n",
       "      <td>Nicotinamide adenine dinucleotide - reduced</td>\n",
       "      <td>nadh_c</td>\n",
       "      <td>EAR160x</td>\n",
       "      <td>Enoyl-[acyl-carrier-protein] reductase (NADH) ...</td>\n",
       "      <td>b1288</td>\n",
       "      <td></td>\n",
       "      <td>h_c + nadh_c + tpalm2eACP_c --&gt; nad_c + palmACP_c</td>\n",
       "    </tr>\n",
       "    <tr>\n",
       "      <th>3</th>\n",
       "      <td>Nicotinamide adenine dinucleotide - reduced</td>\n",
       "      <td>nadh_c</td>\n",
       "      <td>LALDO2x</td>\n",
       "      <td>D-Lactaldehyde:NAD+ 1-oxidoreductase</td>\n",
       "      <td>b3945</td>\n",
       "      <td></td>\n",
       "      <td>h_c + mthgxl_c + nadh_c --&gt; lald__D_c + nad_c</td>\n",
       "    </tr>\n",
       "    <tr>\n",
       "      <th>4</th>\n",
       "      <td>Nicotinamide adenine dinucleotide - reduced</td>\n",
       "      <td>nadh_c</td>\n",
       "      <td>EAR100x</td>\n",
       "      <td>Enoyl-[acyl-carrier-protein] reductase (NADH) ...</td>\n",
       "      <td>b1288</td>\n",
       "      <td></td>\n",
       "      <td>h_c + nadh_c + tdec2eACP_c --&gt; dcaACP_c + nad_c</td>\n",
       "    </tr>\n",
       "  </tbody>\n",
       "</table>\n",
       "</div>"
      ],
      "text/plain": [
       "                                       MetName   MetID    RxnID  \\\n",
       "0  Nicotinamide adenine dinucleotide - reduced  nadh_c   EAR60x   \n",
       "1  Nicotinamide adenine dinucleotide - reduced  nadh_c    DHPPD   \n",
       "2  Nicotinamide adenine dinucleotide - reduced  nadh_c  EAR160x   \n",
       "3  Nicotinamide adenine dinucleotide - reduced  nadh_c  LALDO2x   \n",
       "4  Nicotinamide adenine dinucleotide - reduced  nadh_c  EAR100x   \n",
       "\n",
       "                                             RxnName GeneID Subsystem  \\\n",
       "0  Enoyl-[acyl-carrier-protein] reductase (NADH) ...  b1288             \n",
       "1        2,3-dihydroxyphenylpropionate dehydrogenase  b2541             \n",
       "2  Enoyl-[acyl-carrier-protein] reductase (NADH) ...  b1288             \n",
       "3               D-Lactaldehyde:NAD+ 1-oxidoreductase  b3945             \n",
       "4  Enoyl-[acyl-carrier-protein] reductase (NADH) ...  b1288             \n",
       "\n",
       "                                          RxnFormula  \n",
       "0    h_c + nadh_c + thex2eACP_c --> hexACP_c + nad_c  \n",
       "1      cechddd_c + nad_c --> dhpppn_c + h_c + nadh_c  \n",
       "2  h_c + nadh_c + tpalm2eACP_c --> nad_c + palmACP_c  \n",
       "3      h_c + mthgxl_c + nadh_c --> lald__D_c + nad_c  \n",
       "4    h_c + nadh_c + tdec2eACP_c --> dcaACP_c + nad_c  "
      ]
     },
     "execution_count": 7,
     "metadata": {},
     "output_type": "execute_result"
    }
   ],
   "source": [
    "info_from_mets.head()"
   ]
  },
  {
   "cell_type": "markdown",
   "metadata": {},
   "source": [
    "## From reactions"
   ]
  },
  {
   "cell_type": "code",
   "execution_count": 8,
   "metadata": {},
   "outputs": [],
   "source": [
    "rxns = ['ICDHyr',\n",
    "        'ICL']"
   ]
  },
  {
   "cell_type": "code",
   "execution_count": 9,
   "metadata": {},
   "outputs": [
    {
     "name": "stdout",
     "output_type": "stream",
     "text": [
      "Using list of reactions to get their information and genes associated.\n",
      "Information correctly obtained.\n"
     ]
    }
   ],
   "source": [
    "info_from_rxns = cobra_utils.query.rxn_gene_associations_from_reactions(model, rxns)"
   ]
  },
  {
   "cell_type": "code",
   "execution_count": 10,
   "metadata": {},
   "outputs": [
    {
     "data": {
      "text/html": [
       "<div>\n",
       "<style scoped>\n",
       "    .dataframe tbody tr th:only-of-type {\n",
       "        vertical-align: middle;\n",
       "    }\n",
       "\n",
       "    .dataframe tbody tr th {\n",
       "        vertical-align: top;\n",
       "    }\n",
       "\n",
       "    .dataframe thead th {\n",
       "        text-align: right;\n",
       "    }\n",
       "</style>\n",
       "<table border=\"1\" class=\"dataframe\">\n",
       "  <thead>\n",
       "    <tr style=\"text-align: right;\">\n",
       "      <th></th>\n",
       "      <th>GeneID</th>\n",
       "      <th>RxnID</th>\n",
       "      <th>RxnName</th>\n",
       "      <th>SubSystem</th>\n",
       "      <th>RxnFormula</th>\n",
       "    </tr>\n",
       "  </thead>\n",
       "  <tbody>\n",
       "    <tr>\n",
       "      <th>0</th>\n",
       "      <td>b1136</td>\n",
       "      <td>ICDHyr</td>\n",
       "      <td>Isocitrate dehydrogenase (NADP)</td>\n",
       "      <td></td>\n",
       "      <td>icit_c + nadp_c &lt;=&gt; akg_c + co2_c + nadph_c</td>\n",
       "    </tr>\n",
       "    <tr>\n",
       "      <th>1</th>\n",
       "      <td>b4015</td>\n",
       "      <td>ICL</td>\n",
       "      <td>Isocitrate lyase</td>\n",
       "      <td></td>\n",
       "      <td>icit_c --&gt; glx_c + succ_c</td>\n",
       "    </tr>\n",
       "  </tbody>\n",
       "</table>\n",
       "</div>"
      ],
      "text/plain": [
       "  GeneID   RxnID                          RxnName SubSystem  \\\n",
       "0  b1136  ICDHyr  Isocitrate dehydrogenase (NADP)             \n",
       "1  b4015     ICL                 Isocitrate lyase             \n",
       "\n",
       "                                    RxnFormula  \n",
       "0  icit_c + nadp_c <=> akg_c + co2_c + nadph_c  \n",
       "1                    icit_c --> glx_c + succ_c  "
      ]
     },
     "execution_count": 10,
     "metadata": {},
     "output_type": "execute_result"
    }
   ],
   "source": [
    "info_from_rxns.head()"
   ]
  },
  {
   "cell_type": "markdown",
   "metadata": {},
   "source": [
    "## From genes"
   ]
  },
  {
   "cell_type": "code",
   "execution_count": 11,
   "metadata": {},
   "outputs": [],
   "source": [
    "genes = ['b1602',\n",
    "         'b1603']"
   ]
  },
  {
   "cell_type": "code",
   "execution_count": 12,
   "metadata": {},
   "outputs": [
    {
     "name": "stdout",
     "output_type": "stream",
     "text": [
      "Using list of genes to get the reactions associated and their information.\n",
      "Information correctly obtained.\n"
     ]
    }
   ],
   "source": [
    "info_from_genes = cobra_utils.query.rxn_gene_associations_from_genes(model, genes)"
   ]
  },
  {
   "cell_type": "code",
   "execution_count": 13,
   "metadata": {},
   "outputs": [
    {
     "data": {
      "text/html": [
       "<div>\n",
       "<style scoped>\n",
       "    .dataframe tbody tr th:only-of-type {\n",
       "        vertical-align: middle;\n",
       "    }\n",
       "\n",
       "    .dataframe tbody tr th {\n",
       "        vertical-align: top;\n",
       "    }\n",
       "\n",
       "    .dataframe thead th {\n",
       "        text-align: right;\n",
       "    }\n",
       "</style>\n",
       "<table border=\"1\" class=\"dataframe\">\n",
       "  <thead>\n",
       "    <tr style=\"text-align: right;\">\n",
       "      <th></th>\n",
       "      <th>GeneID</th>\n",
       "      <th>RxnID</th>\n",
       "      <th>RxnName</th>\n",
       "      <th>SubSystem</th>\n",
       "      <th>RxnFormula</th>\n",
       "    </tr>\n",
       "  </thead>\n",
       "  <tbody>\n",
       "    <tr>\n",
       "      <th>0</th>\n",
       "      <td>b1602</td>\n",
       "      <td>NADTRHD</td>\n",
       "      <td>NAD transhydrogenase</td>\n",
       "      <td></td>\n",
       "      <td>nad_c + nadph_c --&gt; nadh_c + nadp_c</td>\n",
       "    </tr>\n",
       "    <tr>\n",
       "      <th>1</th>\n",
       "      <td>b1602</td>\n",
       "      <td>THD2pp</td>\n",
       "      <td>NAD(P) transhydrogenase (periplasm)</td>\n",
       "      <td></td>\n",
       "      <td>2.0 h_p + nadh_c + nadp_c --&gt; 2.0 h_c + nad_c ...</td>\n",
       "    </tr>\n",
       "    <tr>\n",
       "      <th>2</th>\n",
       "      <td>b1603</td>\n",
       "      <td>NADTRHD</td>\n",
       "      <td>NAD transhydrogenase</td>\n",
       "      <td></td>\n",
       "      <td>nad_c + nadph_c --&gt; nadh_c + nadp_c</td>\n",
       "    </tr>\n",
       "    <tr>\n",
       "      <th>3</th>\n",
       "      <td>b1603</td>\n",
       "      <td>THD2pp</td>\n",
       "      <td>NAD(P) transhydrogenase (periplasm)</td>\n",
       "      <td></td>\n",
       "      <td>2.0 h_p + nadh_c + nadp_c --&gt; 2.0 h_c + nad_c ...</td>\n",
       "    </tr>\n",
       "  </tbody>\n",
       "</table>\n",
       "</div>"
      ],
      "text/plain": [
       "  GeneID    RxnID                              RxnName SubSystem  \\\n",
       "0  b1602  NADTRHD                 NAD transhydrogenase             \n",
       "1  b1602   THD2pp  NAD(P) transhydrogenase (periplasm)             \n",
       "2  b1603  NADTRHD                 NAD transhydrogenase             \n",
       "3  b1603   THD2pp  NAD(P) transhydrogenase (periplasm)             \n",
       "\n",
       "                                          RxnFormula  \n",
       "0                nad_c + nadph_c --> nadh_c + nadp_c  \n",
       "1  2.0 h_p + nadh_c + nadp_c --> 2.0 h_c + nad_c ...  \n",
       "2                nad_c + nadph_c --> nadh_c + nadp_c  \n",
       "3  2.0 h_p + nadh_c + nadp_c --> 2.0 h_c + nad_c ...  "
      ]
     },
     "execution_count": 13,
     "metadata": {},
     "output_type": "execute_result"
    }
   ],
   "source": [
    "info_from_genes.head()"
   ]
  },
  {
   "cell_type": "markdown",
   "metadata": {},
   "source": [
    "## All rxns"
   ]
  },
  {
   "cell_type": "code",
   "execution_count": 14,
   "metadata": {},
   "outputs": [
    {
     "name": "stdout",
     "output_type": "stream",
     "text": [
      "Getting information for all reactions in the model.\n",
      "Information correctly obtained.\n"
     ]
    }
   ],
   "source": [
    "all_rxns = cobra_utils.query.rxn_gene_associations_from_model(model)"
   ]
  },
  {
   "cell_type": "code",
   "execution_count": 15,
   "metadata": {},
   "outputs": [
    {
     "data": {
      "text/html": [
       "<div>\n",
       "<style scoped>\n",
       "    .dataframe tbody tr th:only-of-type {\n",
       "        vertical-align: middle;\n",
       "    }\n",
       "\n",
       "    .dataframe tbody tr th {\n",
       "        vertical-align: top;\n",
       "    }\n",
       "\n",
       "    .dataframe thead th {\n",
       "        text-align: right;\n",
       "    }\n",
       "</style>\n",
       "<table border=\"1\" class=\"dataframe\">\n",
       "  <thead>\n",
       "    <tr style=\"text-align: right;\">\n",
       "      <th></th>\n",
       "      <th>GeneID</th>\n",
       "      <th>RxnID</th>\n",
       "      <th>RxnName</th>\n",
       "      <th>SubSystem</th>\n",
       "      <th>RxnFormula</th>\n",
       "    </tr>\n",
       "  </thead>\n",
       "  <tbody>\n",
       "    <tr>\n",
       "      <th>0</th>\n",
       "      <td>b0241</td>\n",
       "      <td>12PPDRtex</td>\n",
       "      <td>(R)-Propane-1,2-diol transport via diffusion (...</td>\n",
       "      <td></td>\n",
       "      <td>12ppd__R_e &lt;=&gt; 12ppd__R_p</td>\n",
       "    </tr>\n",
       "    <tr>\n",
       "      <th>1</th>\n",
       "      <td>b0929</td>\n",
       "      <td>12PPDRtex</td>\n",
       "      <td>(R)-Propane-1,2-diol transport via diffusion (...</td>\n",
       "      <td></td>\n",
       "      <td>12ppd__R_e &lt;=&gt; 12ppd__R_p</td>\n",
       "    </tr>\n",
       "    <tr>\n",
       "      <th>2</th>\n",
       "      <td>b2215</td>\n",
       "      <td>12PPDRtex</td>\n",
       "      <td>(R)-Propane-1,2-diol transport via diffusion (...</td>\n",
       "      <td></td>\n",
       "      <td>12ppd__R_e &lt;=&gt; 12ppd__R_p</td>\n",
       "    </tr>\n",
       "    <tr>\n",
       "      <th>3</th>\n",
       "      <td>b1377</td>\n",
       "      <td>12PPDRtex</td>\n",
       "      <td>(R)-Propane-1,2-diol transport via diffusion (...</td>\n",
       "      <td></td>\n",
       "      <td>12ppd__R_e &lt;=&gt; 12ppd__R_p</td>\n",
       "    </tr>\n",
       "    <tr>\n",
       "      <th>4</th>\n",
       "      <td>b0241</td>\n",
       "      <td>12PPDStex</td>\n",
       "      <td>(S)-Propane-1,2-diol transport via diffusion (...</td>\n",
       "      <td></td>\n",
       "      <td>12ppd__S_e &lt;=&gt; 12ppd__S_p</td>\n",
       "    </tr>\n",
       "  </tbody>\n",
       "</table>\n",
       "</div>"
      ],
      "text/plain": [
       "  GeneID      RxnID                                            RxnName  \\\n",
       "0  b0241  12PPDRtex  (R)-Propane-1,2-diol transport via diffusion (...   \n",
       "1  b0929  12PPDRtex  (R)-Propane-1,2-diol transport via diffusion (...   \n",
       "2  b2215  12PPDRtex  (R)-Propane-1,2-diol transport via diffusion (...   \n",
       "3  b1377  12PPDRtex  (R)-Propane-1,2-diol transport via diffusion (...   \n",
       "4  b0241  12PPDStex  (S)-Propane-1,2-diol transport via diffusion (...   \n",
       "\n",
       "  SubSystem                 RxnFormula  \n",
       "0            12ppd__R_e <=> 12ppd__R_p  \n",
       "1            12ppd__R_e <=> 12ppd__R_p  \n",
       "2            12ppd__R_e <=> 12ppd__R_p  \n",
       "3            12ppd__R_e <=> 12ppd__R_p  \n",
       "4            12ppd__S_e <=> 12ppd__S_p  "
      ]
     },
     "execution_count": 15,
     "metadata": {},
     "output_type": "execute_result"
    }
   ],
   "source": [
    "all_rxns.head()"
   ]
  },
  {
   "cell_type": "code",
   "execution_count": null,
   "metadata": {},
   "outputs": [],
   "source": []
  }
 ],
 "metadata": {
  "kernelspec": {
   "display_name": "Python 3",
   "language": "python",
   "name": "python3"
  },
  "language_info": {
   "codemirror_mode": {
    "name": "ipython",
    "version": 3
   },
   "file_extension": ".py",
   "mimetype": "text/x-python",
   "name": "python",
   "nbconvert_exporter": "python",
   "pygments_lexer": "ipython3",
   "version": "3.6.5"
  }
 },
 "nbformat": 4,
 "nbformat_minor": 2
}
